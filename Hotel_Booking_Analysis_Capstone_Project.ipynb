{
  "nbformat": 4,
  "nbformat_minor": 0,
  "metadata": {
    "kernelspec": {
      "display_name": "Python 3",
      "language": "python",
      "name": "python3"
    },
    "language_info": {
      "codemirror_mode": {
        "name": "ipython",
        "version": 3
      },
      "file_extension": ".py",
      "mimetype": "text/x-python",
      "name": "python",
      "nbconvert_exporter": "python",
      "pygments_lexer": "ipython3",
      "version": "3.6.6"
    },
    "colab": {
      "name": "Hotel Booking Analysis - Capstone Project.ipynb",
      "provenance": [],
      "collapsed_sections": [],
      "toc_visible": true,
      "include_colab_link": true
    }
  },
  "cells": [
    {
      "cell_type": "markdown",
      "metadata": {
        "id": "view-in-github",
        "colab_type": "text"
      },
      "source": [
        "<a href=\"https://colab.research.google.com/github/Shyamsundarkanaka/Hotel-Booking-Analysis/blob/main/Hotel_Booking_Analysis_Capstone_Project.ipynb\" target=\"_parent\"><img src=\"https://colab.research.google.com/assets/colab-badge.svg\" alt=\"Open In Colab\"/></a>"
      ]
    },
    {
      "cell_type": "markdown",
      "metadata": {
        "id": "Y06xIdG26kRF"
      },
      "source": [
        "## <b> Have you ever wondered when the best time of year to book a hotel room is? Or the optimal length of stay in order to get the best daily rate? What if you wanted to predict whether or not a hotel was likely to receive a disproportionately high number of special requests? This hotel booking dataset can help you explore those questions!\n",
        "\n",
        "## <b>This data set contains booking information for a city hotel and a resort hotel, and includes information such as when the booking was made, length of stay, the number of adults, children, and/or babies, and the number of available parking spaces, among other things. All personally identifying information has been removed from the data. </b>\n",
        "\n",
        "## <b> Explore and analyze the data to discover important factors that govern the bookings. </b>"
      ]
    },
    {
      "cell_type": "code",
      "metadata": {
        "id": "q6_Y4xldMFiT",
        "colab": {
          "base_uri": "https://localhost:8080/"
        },
        "outputId": "c13b3469-2129-49b9-8e4f-db3bccffdc37"
      },
      "source": [
        "from google.colab import drive\n",
        "drive.mount('/content/drive')"
      ],
      "execution_count": 3,
      "outputs": [
        {
          "output_type": "stream",
          "text": [
            "Mounted at /content/drive\n"
          ],
          "name": "stdout"
        }
      ]
    },
    {
      "cell_type": "code",
      "metadata": {
        "id": "dByMsuzT8Tnw"
      },
      "source": [
        "path = '/content/drive/MyDrive/Colab Notebooks/Data science/Module 1/Hotel booking analysis/'"
      ],
      "execution_count": 4,
      "outputs": []
    },
    {
      "cell_type": "code",
      "metadata": {
        "id": "RoeLyw2JTmqZ"
      },
      "source": [
        "import numpy as np\n",
        "import pandas as pd\n",
        "\n",
        "import seaborn as sns\n",
        "import matplotlib.pyplot as plt\n",
        "%matplotlib inline"
      ],
      "execution_count": 5,
      "outputs": []
    },
    {
      "cell_type": "markdown",
      "metadata": {
        "id": "ODBGgOluUNdZ"
      },
      "source": [
        "#Importing Data and going through it to undertand it\n"
      ]
    },
    {
      "cell_type": "code",
      "metadata": {
        "id": "WqxTTAN-TtnR"
      },
      "source": [
        "df = pd.read_csv(path+ 'Hotel Bookings.csv')"
      ],
      "execution_count": 6,
      "outputs": []
    },
    {
      "cell_type": "code",
      "metadata": {
        "colab": {
          "base_uri": "https://localhost:8080/",
          "height": 300
        },
        "id": "4vA_bg4YT25r",
        "outputId": "9635c311-79f2-4472-df4d-f5d195926813"
      },
      "source": [
        "df.head()"
      ],
      "execution_count": 7,
      "outputs": [
        {
          "output_type": "execute_result",
          "data": {
            "text/html": [
              "<div>\n",
              "<style scoped>\n",
              "    .dataframe tbody tr th:only-of-type {\n",
              "        vertical-align: middle;\n",
              "    }\n",
              "\n",
              "    .dataframe tbody tr th {\n",
              "        vertical-align: top;\n",
              "    }\n",
              "\n",
              "    .dataframe thead th {\n",
              "        text-align: right;\n",
              "    }\n",
              "</style>\n",
              "<table border=\"1\" class=\"dataframe\">\n",
              "  <thead>\n",
              "    <tr style=\"text-align: right;\">\n",
              "      <th></th>\n",
              "      <th>hotel</th>\n",
              "      <th>is_canceled</th>\n",
              "      <th>lead_time</th>\n",
              "      <th>arrival_date_year</th>\n",
              "      <th>arrival_date_month</th>\n",
              "      <th>arrival_date_week_number</th>\n",
              "      <th>arrival_date_day_of_month</th>\n",
              "      <th>stays_in_weekend_nights</th>\n",
              "      <th>stays_in_week_nights</th>\n",
              "      <th>adults</th>\n",
              "      <th>children</th>\n",
              "      <th>babies</th>\n",
              "      <th>meal</th>\n",
              "      <th>country</th>\n",
              "      <th>market_segment</th>\n",
              "      <th>distribution_channel</th>\n",
              "      <th>is_repeated_guest</th>\n",
              "      <th>previous_cancellations</th>\n",
              "      <th>previous_bookings_not_canceled</th>\n",
              "      <th>reserved_room_type</th>\n",
              "      <th>assigned_room_type</th>\n",
              "      <th>booking_changes</th>\n",
              "      <th>deposit_type</th>\n",
              "      <th>agent</th>\n",
              "      <th>company</th>\n",
              "      <th>days_in_waiting_list</th>\n",
              "      <th>customer_type</th>\n",
              "      <th>adr</th>\n",
              "      <th>required_car_parking_spaces</th>\n",
              "      <th>total_of_special_requests</th>\n",
              "      <th>reservation_status</th>\n",
              "      <th>reservation_status_date</th>\n",
              "    </tr>\n",
              "  </thead>\n",
              "  <tbody>\n",
              "    <tr>\n",
              "      <th>0</th>\n",
              "      <td>Resort Hotel</td>\n",
              "      <td>0</td>\n",
              "      <td>342</td>\n",
              "      <td>2015</td>\n",
              "      <td>July</td>\n",
              "      <td>27</td>\n",
              "      <td>1</td>\n",
              "      <td>0</td>\n",
              "      <td>0</td>\n",
              "      <td>2</td>\n",
              "      <td>0.0</td>\n",
              "      <td>0</td>\n",
              "      <td>BB</td>\n",
              "      <td>PRT</td>\n",
              "      <td>Direct</td>\n",
              "      <td>Direct</td>\n",
              "      <td>0</td>\n",
              "      <td>0</td>\n",
              "      <td>0</td>\n",
              "      <td>C</td>\n",
              "      <td>C</td>\n",
              "      <td>3</td>\n",
              "      <td>No Deposit</td>\n",
              "      <td>NaN</td>\n",
              "      <td>NaN</td>\n",
              "      <td>0</td>\n",
              "      <td>Transient</td>\n",
              "      <td>0.0</td>\n",
              "      <td>0</td>\n",
              "      <td>0</td>\n",
              "      <td>Check-Out</td>\n",
              "      <td>2015-07-01</td>\n",
              "    </tr>\n",
              "    <tr>\n",
              "      <th>1</th>\n",
              "      <td>Resort Hotel</td>\n",
              "      <td>0</td>\n",
              "      <td>737</td>\n",
              "      <td>2015</td>\n",
              "      <td>July</td>\n",
              "      <td>27</td>\n",
              "      <td>1</td>\n",
              "      <td>0</td>\n",
              "      <td>0</td>\n",
              "      <td>2</td>\n",
              "      <td>0.0</td>\n",
              "      <td>0</td>\n",
              "      <td>BB</td>\n",
              "      <td>PRT</td>\n",
              "      <td>Direct</td>\n",
              "      <td>Direct</td>\n",
              "      <td>0</td>\n",
              "      <td>0</td>\n",
              "      <td>0</td>\n",
              "      <td>C</td>\n",
              "      <td>C</td>\n",
              "      <td>4</td>\n",
              "      <td>No Deposit</td>\n",
              "      <td>NaN</td>\n",
              "      <td>NaN</td>\n",
              "      <td>0</td>\n",
              "      <td>Transient</td>\n",
              "      <td>0.0</td>\n",
              "      <td>0</td>\n",
              "      <td>0</td>\n",
              "      <td>Check-Out</td>\n",
              "      <td>2015-07-01</td>\n",
              "    </tr>\n",
              "    <tr>\n",
              "      <th>2</th>\n",
              "      <td>Resort Hotel</td>\n",
              "      <td>0</td>\n",
              "      <td>7</td>\n",
              "      <td>2015</td>\n",
              "      <td>July</td>\n",
              "      <td>27</td>\n",
              "      <td>1</td>\n",
              "      <td>0</td>\n",
              "      <td>1</td>\n",
              "      <td>1</td>\n",
              "      <td>0.0</td>\n",
              "      <td>0</td>\n",
              "      <td>BB</td>\n",
              "      <td>GBR</td>\n",
              "      <td>Direct</td>\n",
              "      <td>Direct</td>\n",
              "      <td>0</td>\n",
              "      <td>0</td>\n",
              "      <td>0</td>\n",
              "      <td>A</td>\n",
              "      <td>C</td>\n",
              "      <td>0</td>\n",
              "      <td>No Deposit</td>\n",
              "      <td>NaN</td>\n",
              "      <td>NaN</td>\n",
              "      <td>0</td>\n",
              "      <td>Transient</td>\n",
              "      <td>75.0</td>\n",
              "      <td>0</td>\n",
              "      <td>0</td>\n",
              "      <td>Check-Out</td>\n",
              "      <td>2015-07-02</td>\n",
              "    </tr>\n",
              "    <tr>\n",
              "      <th>3</th>\n",
              "      <td>Resort Hotel</td>\n",
              "      <td>0</td>\n",
              "      <td>13</td>\n",
              "      <td>2015</td>\n",
              "      <td>July</td>\n",
              "      <td>27</td>\n",
              "      <td>1</td>\n",
              "      <td>0</td>\n",
              "      <td>1</td>\n",
              "      <td>1</td>\n",
              "      <td>0.0</td>\n",
              "      <td>0</td>\n",
              "      <td>BB</td>\n",
              "      <td>GBR</td>\n",
              "      <td>Corporate</td>\n",
              "      <td>Corporate</td>\n",
              "      <td>0</td>\n",
              "      <td>0</td>\n",
              "      <td>0</td>\n",
              "      <td>A</td>\n",
              "      <td>A</td>\n",
              "      <td>0</td>\n",
              "      <td>No Deposit</td>\n",
              "      <td>304.0</td>\n",
              "      <td>NaN</td>\n",
              "      <td>0</td>\n",
              "      <td>Transient</td>\n",
              "      <td>75.0</td>\n",
              "      <td>0</td>\n",
              "      <td>0</td>\n",
              "      <td>Check-Out</td>\n",
              "      <td>2015-07-02</td>\n",
              "    </tr>\n",
              "    <tr>\n",
              "      <th>4</th>\n",
              "      <td>Resort Hotel</td>\n",
              "      <td>0</td>\n",
              "      <td>14</td>\n",
              "      <td>2015</td>\n",
              "      <td>July</td>\n",
              "      <td>27</td>\n",
              "      <td>1</td>\n",
              "      <td>0</td>\n",
              "      <td>2</td>\n",
              "      <td>2</td>\n",
              "      <td>0.0</td>\n",
              "      <td>0</td>\n",
              "      <td>BB</td>\n",
              "      <td>GBR</td>\n",
              "      <td>Online TA</td>\n",
              "      <td>TA/TO</td>\n",
              "      <td>0</td>\n",
              "      <td>0</td>\n",
              "      <td>0</td>\n",
              "      <td>A</td>\n",
              "      <td>A</td>\n",
              "      <td>0</td>\n",
              "      <td>No Deposit</td>\n",
              "      <td>240.0</td>\n",
              "      <td>NaN</td>\n",
              "      <td>0</td>\n",
              "      <td>Transient</td>\n",
              "      <td>98.0</td>\n",
              "      <td>0</td>\n",
              "      <td>1</td>\n",
              "      <td>Check-Out</td>\n",
              "      <td>2015-07-03</td>\n",
              "    </tr>\n",
              "  </tbody>\n",
              "</table>\n",
              "</div>"
            ],
            "text/plain": [
              "          hotel  is_canceled  ...  reservation_status  reservation_status_date\n",
              "0  Resort Hotel            0  ...           Check-Out               2015-07-01\n",
              "1  Resort Hotel            0  ...           Check-Out               2015-07-01\n",
              "2  Resort Hotel            0  ...           Check-Out               2015-07-02\n",
              "3  Resort Hotel            0  ...           Check-Out               2015-07-02\n",
              "4  Resort Hotel            0  ...           Check-Out               2015-07-03\n",
              "\n",
              "[5 rows x 32 columns]"
            ]
          },
          "metadata": {
            "tags": []
          },
          "execution_count": 7
        }
      ]
    },
    {
      "cell_type": "code",
      "metadata": {
        "colab": {
          "base_uri": "https://localhost:8080/"
        },
        "id": "1SEG3W6xUArk",
        "outputId": "f4b7dead-1ac9-462c-f1ff-58f7e2445701"
      },
      "source": [
        "df.shape"
      ],
      "execution_count": 8,
      "outputs": [
        {
          "output_type": "execute_result",
          "data": {
            "text/plain": [
              "(119390, 32)"
            ]
          },
          "metadata": {
            "tags": []
          },
          "execution_count": 8
        }
      ]
    },
    {
      "cell_type": "code",
      "metadata": {
        "colab": {
          "base_uri": "https://localhost:8080/"
        },
        "id": "1nVamoWkUrqa",
        "outputId": "9379c787-82ec-411b-fd47-0d1eeaf90720"
      },
      "source": [
        "df.info()"
      ],
      "execution_count": 9,
      "outputs": [
        {
          "output_type": "stream",
          "text": [
            "<class 'pandas.core.frame.DataFrame'>\n",
            "RangeIndex: 119390 entries, 0 to 119389\n",
            "Data columns (total 32 columns):\n",
            " #   Column                          Non-Null Count   Dtype  \n",
            "---  ------                          --------------   -----  \n",
            " 0   hotel                           119390 non-null  object \n",
            " 1   is_canceled                     119390 non-null  int64  \n",
            " 2   lead_time                       119390 non-null  int64  \n",
            " 3   arrival_date_year               119390 non-null  int64  \n",
            " 4   arrival_date_month              119390 non-null  object \n",
            " 5   arrival_date_week_number        119390 non-null  int64  \n",
            " 6   arrival_date_day_of_month       119390 non-null  int64  \n",
            " 7   stays_in_weekend_nights         119390 non-null  int64  \n",
            " 8   stays_in_week_nights            119390 non-null  int64  \n",
            " 9   adults                          119390 non-null  int64  \n",
            " 10  children                        119386 non-null  float64\n",
            " 11  babies                          119390 non-null  int64  \n",
            " 12  meal                            119390 non-null  object \n",
            " 13  country                         118902 non-null  object \n",
            " 14  market_segment                  119390 non-null  object \n",
            " 15  distribution_channel            119390 non-null  object \n",
            " 16  is_repeated_guest               119390 non-null  int64  \n",
            " 17  previous_cancellations          119390 non-null  int64  \n",
            " 18  previous_bookings_not_canceled  119390 non-null  int64  \n",
            " 19  reserved_room_type              119390 non-null  object \n",
            " 20  assigned_room_type              119390 non-null  object \n",
            " 21  booking_changes                 119390 non-null  int64  \n",
            " 22  deposit_type                    119390 non-null  object \n",
            " 23  agent                           103050 non-null  float64\n",
            " 24  company                         6797 non-null    float64\n",
            " 25  days_in_waiting_list            119390 non-null  int64  \n",
            " 26  customer_type                   119390 non-null  object \n",
            " 27  adr                             119390 non-null  float64\n",
            " 28  required_car_parking_spaces     119390 non-null  int64  \n",
            " 29  total_of_special_requests       119390 non-null  int64  \n",
            " 30  reservation_status              119390 non-null  object \n",
            " 31  reservation_status_date         119390 non-null  object \n",
            "dtypes: float64(4), int64(16), object(12)\n",
            "memory usage: 29.1+ MB\n"
          ],
          "name": "stdout"
        }
      ]
    },
    {
      "cell_type": "code",
      "metadata": {
        "colab": {
          "base_uri": "https://localhost:8080/"
        },
        "id": "T1Pj34E5VITa",
        "outputId": "f28c07d9-5521-4ed5-a94d-3e01ec6ca752"
      },
      "source": [
        "df.hotel.value_counts()"
      ],
      "execution_count": 10,
      "outputs": [
        {
          "output_type": "execute_result",
          "data": {
            "text/plain": [
              "City Hotel      79330\n",
              "Resort Hotel    40060\n",
              "Name: hotel, dtype: int64"
            ]
          },
          "metadata": {
            "tags": []
          },
          "execution_count": 10
        }
      ]
    },
    {
      "cell_type": "code",
      "metadata": {
        "colab": {
          "base_uri": "https://localhost:8080/"
        },
        "id": "kFd-QzFVVV46",
        "outputId": "27829a8f-faa2-435e-cfb7-c108f482d8d3"
      },
      "source": [
        "df.customer_type.value_counts()"
      ],
      "execution_count": 11,
      "outputs": [
        {
          "output_type": "execute_result",
          "data": {
            "text/plain": [
              "Transient          89613\n",
              "Transient-Party    25124\n",
              "Contract            4076\n",
              "Group                577\n",
              "Name: customer_type, dtype: int64"
            ]
          },
          "metadata": {
            "tags": []
          },
          "execution_count": 11
        }
      ]
    },
    {
      "cell_type": "code",
      "metadata": {
        "colab": {
          "base_uri": "https://localhost:8080/"
        },
        "id": "G5ths_M0WZ4S",
        "outputId": "5f8c8a90-8f5b-45cc-c0b9-a22153954afd"
      },
      "source": [
        "print(df.columns[df.isna().any()].to_list)"
      ],
      "execution_count": 12,
      "outputs": [
        {
          "output_type": "stream",
          "text": [
            "<bound method IndexOpsMixin.tolist of Index(['children', 'country', 'agent', 'company'], dtype='object')>\n"
          ],
          "name": "stdout"
        }
      ]
    },
    {
      "cell_type": "code",
      "metadata": {
        "colab": {
          "base_uri": "https://localhost:8080/"
        },
        "id": "hN6DK1DsXePL",
        "outputId": "42b120a8-da1d-4bb1-dc75-925f36ac7534"
      },
      "source": [
        "df.columns[df.isna().any()]"
      ],
      "execution_count": 13,
      "outputs": [
        {
          "output_type": "execute_result",
          "data": {
            "text/plain": [
              "Index(['children', 'country', 'agent', 'company'], dtype='object')"
            ]
          },
          "metadata": {
            "tags": []
          },
          "execution_count": 13
        }
      ]
    },
    {
      "cell_type": "code",
      "metadata": {
        "colab": {
          "base_uri": "https://localhost:8080/"
        },
        "id": "z6EP_9WbYLGq",
        "outputId": "1b77673c-72c7-480e-ff32-3637eedef510"
      },
      "source": [
        "df[['children', 'country', 'agent', 'company']].isnull().sum(axis = 0)"
      ],
      "execution_count": 14,
      "outputs": [
        {
          "output_type": "execute_result",
          "data": {
            "text/plain": [
              "children         4\n",
              "country        488\n",
              "agent        16340\n",
              "company     112593\n",
              "dtype: int64"
            ]
          },
          "metadata": {
            "tags": []
          },
          "execution_count": 14
        }
      ]
    },
    {
      "cell_type": "code",
      "metadata": {
        "colab": {
          "base_uri": "https://localhost:8080/",
          "height": 52
        },
        "id": "UAfW1fX-YaKS",
        "outputId": "0db70934-2d45-4523-ee1f-362435c6e642"
      },
      "source": [
        "'''\n",
        "print(df.children.value_counts())\n",
        "print(df.country.value_counts())\n",
        "print(df.agent.value_counts())\n",
        "print(df.company.value_counts())\n",
        "'''\n"
      ],
      "execution_count": 15,
      "outputs": [
        {
          "output_type": "execute_result",
          "data": {
            "application/vnd.google.colaboratory.intrinsic+json": {
              "type": "string"
            },
            "text/plain": [
              "'\\nprint(df.children.value_counts())\\nprint(df.country.value_counts())\\nprint(df.agent.value_counts())\\nprint(df.company.value_counts())\\n'"
            ]
          },
          "metadata": {
            "tags": []
          },
          "execution_count": 15
        }
      ]
    },
    {
      "cell_type": "code",
      "metadata": {
        "colab": {
          "base_uri": "https://localhost:8080/"
        },
        "id": "vRiflgkNZw67",
        "outputId": "50c0aae6-dd75-444c-e1ea-f1174c0be3f3"
      },
      "source": [
        "df.columns.to_list()"
      ],
      "execution_count": 16,
      "outputs": [
        {
          "output_type": "execute_result",
          "data": {
            "text/plain": [
              "['hotel',\n",
              " 'is_canceled',\n",
              " 'lead_time',\n",
              " 'arrival_date_year',\n",
              " 'arrival_date_month',\n",
              " 'arrival_date_week_number',\n",
              " 'arrival_date_day_of_month',\n",
              " 'stays_in_weekend_nights',\n",
              " 'stays_in_week_nights',\n",
              " 'adults',\n",
              " 'children',\n",
              " 'babies',\n",
              " 'meal',\n",
              " 'country',\n",
              " 'market_segment',\n",
              " 'distribution_channel',\n",
              " 'is_repeated_guest',\n",
              " 'previous_cancellations',\n",
              " 'previous_bookings_not_canceled',\n",
              " 'reserved_room_type',\n",
              " 'assigned_room_type',\n",
              " 'booking_changes',\n",
              " 'deposit_type',\n",
              " 'agent',\n",
              " 'company',\n",
              " 'days_in_waiting_list',\n",
              " 'customer_type',\n",
              " 'adr',\n",
              " 'required_car_parking_spaces',\n",
              " 'total_of_special_requests',\n",
              " 'reservation_status',\n",
              " 'reservation_status_date']"
            ]
          },
          "metadata": {
            "tags": []
          },
          "execution_count": 16
        }
      ]
    },
    {
      "cell_type": "code",
      "metadata": {
        "colab": {
          "base_uri": "https://localhost:8080/"
        },
        "id": "mS62XUuxbLJD",
        "outputId": "509e80b7-4c70-4a6b-c13d-50bb1f7d5210"
      },
      "source": [
        "print(df.children.value_counts())"
      ],
      "execution_count": 17,
      "outputs": [
        {
          "output_type": "stream",
          "text": [
            "0.0     110796\n",
            "1.0       4861\n",
            "2.0       3652\n",
            "3.0         76\n",
            "10.0         1\n",
            "Name: children, dtype: int64\n"
          ],
          "name": "stdout"
        }
      ]
    },
    {
      "cell_type": "markdown",
      "metadata": {
        "id": "Qgk2MQNFUXSy"
      },
      "source": [
        "#Data Cleansing"
      ]
    },
    {
      "cell_type": "code",
      "metadata": {
        "id": "SlkX7t7hTxJz"
      },
      "source": [
        "#Drop the company column as there too many missing values\n",
        "df = df.drop(['company'], axis=1)"
      ],
      "execution_count": 18,
      "outputs": []
    },
    {
      "cell_type": "code",
      "metadata": {
        "colab": {
          "base_uri": "https://localhost:8080/"
        },
        "id": "4kuLtjaYUeSD",
        "outputId": "e516194e-7ec8-4985-b3d2-9a2ceaf43269"
      },
      "source": [
        "df.shape"
      ],
      "execution_count": 19,
      "outputs": [
        {
          "output_type": "execute_result",
          "data": {
            "text/plain": [
              "(119390, 31)"
            ]
          },
          "metadata": {
            "tags": []
          },
          "execution_count": 19
        }
      ]
    },
    {
      "cell_type": "code",
      "metadata": {
        "id": "euvZDT6dUmfE"
      },
      "source": [
        "# Replace Null Values with Mode for childen column\n",
        "df['children'].fillna(df.children.mode()[0], inplace=True)"
      ],
      "execution_count": 20,
      "outputs": []
    },
    {
      "cell_type": "code",
      "metadata": {
        "colab": {
          "base_uri": "https://localhost:8080/"
        },
        "id": "sTM--vNoVBw0",
        "outputId": "0f4762fa-7f61-47ae-a793-6c6ad0750b95"
      },
      "source": [
        "df['children'].isnull().sum()"
      ],
      "execution_count": 21,
      "outputs": [
        {
          "output_type": "execute_result",
          "data": {
            "text/plain": [
              "0"
            ]
          },
          "metadata": {
            "tags": []
          },
          "execution_count": 21
        }
      ]
    },
    {
      "cell_type": "code",
      "metadata": {
        "colab": {
          "base_uri": "https://localhost:8080/"
        },
        "id": "7lQ6bIzkYqqT",
        "outputId": "205c2dc8-af54-481c-edc8-6158cca747a5"
      },
      "source": [
        "df.columns[df.isna().any()]"
      ],
      "execution_count": 22,
      "outputs": [
        {
          "output_type": "execute_result",
          "data": {
            "text/plain": [
              "Index(['country', 'agent'], dtype='object')"
            ]
          },
          "metadata": {
            "tags": []
          },
          "execution_count": 22
        }
      ]
    },
    {
      "cell_type": "code",
      "metadata": {
        "id": "deGx9Yn8hEoL"
      },
      "source": [
        "# Replace Null Values with Mode for country column\n",
        "df.country.fillna(df.country.mode()[0], inplace=True)"
      ],
      "execution_count": 23,
      "outputs": []
    },
    {
      "cell_type": "code",
      "metadata": {
        "colab": {
          "base_uri": "https://localhost:8080/"
        },
        "id": "xa8NSILEjy2x",
        "outputId": "f0204d5e-a2a4-4a09-f9e0-bca4cc6ad913"
      },
      "source": [
        "df.columns[df.isna().any()]"
      ],
      "execution_count": 24,
      "outputs": [
        {
          "output_type": "execute_result",
          "data": {
            "text/plain": [
              "Index(['agent'], dtype='object')"
            ]
          },
          "metadata": {
            "tags": []
          },
          "execution_count": 24
        }
      ]
    },
    {
      "cell_type": "code",
      "metadata": {
        "colab": {
          "base_uri": "https://localhost:8080/"
        },
        "id": "fLSxZ8NDj0lz",
        "outputId": "0f1a08ff-889e-443d-9652-f88ba2580c22"
      },
      "source": [
        "df.agent.value_counts().sort_values()\n"
      ],
      "execution_count": 25,
      "outputs": [
        {
          "output_type": "execute_result",
          "data": {
            "text/plain": [
              "337.0        1\n",
              "90.0         1\n",
              "285.0        1\n",
              "497.0        1\n",
              "397.0        1\n",
              "         ...  \n",
              "7.0       3539\n",
              "14.0      3640\n",
              "1.0       7191\n",
              "240.0    13922\n",
              "9.0      31961\n",
              "Name: agent, Length: 333, dtype: int64"
            ]
          },
          "metadata": {
            "tags": []
          },
          "execution_count": 25
        }
      ]
    },
    {
      "cell_type": "code",
      "metadata": {
        "id": "WC4yVrYzksFL"
      },
      "source": [
        "#Replace Null value of agent column with  0\n",
        "df.agent.fillna(0, inplace=True)"
      ],
      "execution_count": 26,
      "outputs": []
    },
    {
      "cell_type": "code",
      "metadata": {
        "colab": {
          "base_uri": "https://localhost:8080/"
        },
        "id": "iMn01Qt_nsnc",
        "outputId": "1631e9c2-430d-44fb-a724-0316d8166f1a"
      },
      "source": [
        "df.isna().sum()"
      ],
      "execution_count": 27,
      "outputs": [
        {
          "output_type": "execute_result",
          "data": {
            "text/plain": [
              "hotel                             0\n",
              "is_canceled                       0\n",
              "lead_time                         0\n",
              "arrival_date_year                 0\n",
              "arrival_date_month                0\n",
              "arrival_date_week_number          0\n",
              "arrival_date_day_of_month         0\n",
              "stays_in_weekend_nights           0\n",
              "stays_in_week_nights              0\n",
              "adults                            0\n",
              "children                          0\n",
              "babies                            0\n",
              "meal                              0\n",
              "country                           0\n",
              "market_segment                    0\n",
              "distribution_channel              0\n",
              "is_repeated_guest                 0\n",
              "previous_cancellations            0\n",
              "previous_bookings_not_canceled    0\n",
              "reserved_room_type                0\n",
              "assigned_room_type                0\n",
              "booking_changes                   0\n",
              "deposit_type                      0\n",
              "agent                             0\n",
              "days_in_waiting_list              0\n",
              "customer_type                     0\n",
              "adr                               0\n",
              "required_car_parking_spaces       0\n",
              "total_of_special_requests         0\n",
              "reservation_status                0\n",
              "reservation_status_date           0\n",
              "dtype: int64"
            ]
          },
          "metadata": {
            "tags": []
          },
          "execution_count": 27
        }
      ]
    },
    {
      "cell_type": "code",
      "metadata": {
        "id": "Q-KaCt1jnvcS",
        "colab": {
          "base_uri": "https://localhost:8080/",
          "height": 160
        },
        "outputId": "c67fced0-4226-43d5-bb0e-161ea21d4bc3"
      },
      "source": [
        "df.head(2\n",
        "        )"
      ],
      "execution_count": 28,
      "outputs": [
        {
          "output_type": "execute_result",
          "data": {
            "text/html": [
              "<div>\n",
              "<style scoped>\n",
              "    .dataframe tbody tr th:only-of-type {\n",
              "        vertical-align: middle;\n",
              "    }\n",
              "\n",
              "    .dataframe tbody tr th {\n",
              "        vertical-align: top;\n",
              "    }\n",
              "\n",
              "    .dataframe thead th {\n",
              "        text-align: right;\n",
              "    }\n",
              "</style>\n",
              "<table border=\"1\" class=\"dataframe\">\n",
              "  <thead>\n",
              "    <tr style=\"text-align: right;\">\n",
              "      <th></th>\n",
              "      <th>hotel</th>\n",
              "      <th>is_canceled</th>\n",
              "      <th>lead_time</th>\n",
              "      <th>arrival_date_year</th>\n",
              "      <th>arrival_date_month</th>\n",
              "      <th>arrival_date_week_number</th>\n",
              "      <th>arrival_date_day_of_month</th>\n",
              "      <th>stays_in_weekend_nights</th>\n",
              "      <th>stays_in_week_nights</th>\n",
              "      <th>adults</th>\n",
              "      <th>children</th>\n",
              "      <th>babies</th>\n",
              "      <th>meal</th>\n",
              "      <th>country</th>\n",
              "      <th>market_segment</th>\n",
              "      <th>distribution_channel</th>\n",
              "      <th>is_repeated_guest</th>\n",
              "      <th>previous_cancellations</th>\n",
              "      <th>previous_bookings_not_canceled</th>\n",
              "      <th>reserved_room_type</th>\n",
              "      <th>assigned_room_type</th>\n",
              "      <th>booking_changes</th>\n",
              "      <th>deposit_type</th>\n",
              "      <th>agent</th>\n",
              "      <th>days_in_waiting_list</th>\n",
              "      <th>customer_type</th>\n",
              "      <th>adr</th>\n",
              "      <th>required_car_parking_spaces</th>\n",
              "      <th>total_of_special_requests</th>\n",
              "      <th>reservation_status</th>\n",
              "      <th>reservation_status_date</th>\n",
              "    </tr>\n",
              "  </thead>\n",
              "  <tbody>\n",
              "    <tr>\n",
              "      <th>0</th>\n",
              "      <td>Resort Hotel</td>\n",
              "      <td>0</td>\n",
              "      <td>342</td>\n",
              "      <td>2015</td>\n",
              "      <td>July</td>\n",
              "      <td>27</td>\n",
              "      <td>1</td>\n",
              "      <td>0</td>\n",
              "      <td>0</td>\n",
              "      <td>2</td>\n",
              "      <td>0.0</td>\n",
              "      <td>0</td>\n",
              "      <td>BB</td>\n",
              "      <td>PRT</td>\n",
              "      <td>Direct</td>\n",
              "      <td>Direct</td>\n",
              "      <td>0</td>\n",
              "      <td>0</td>\n",
              "      <td>0</td>\n",
              "      <td>C</td>\n",
              "      <td>C</td>\n",
              "      <td>3</td>\n",
              "      <td>No Deposit</td>\n",
              "      <td>0.0</td>\n",
              "      <td>0</td>\n",
              "      <td>Transient</td>\n",
              "      <td>0.0</td>\n",
              "      <td>0</td>\n",
              "      <td>0</td>\n",
              "      <td>Check-Out</td>\n",
              "      <td>2015-07-01</td>\n",
              "    </tr>\n",
              "    <tr>\n",
              "      <th>1</th>\n",
              "      <td>Resort Hotel</td>\n",
              "      <td>0</td>\n",
              "      <td>737</td>\n",
              "      <td>2015</td>\n",
              "      <td>July</td>\n",
              "      <td>27</td>\n",
              "      <td>1</td>\n",
              "      <td>0</td>\n",
              "      <td>0</td>\n",
              "      <td>2</td>\n",
              "      <td>0.0</td>\n",
              "      <td>0</td>\n",
              "      <td>BB</td>\n",
              "      <td>PRT</td>\n",
              "      <td>Direct</td>\n",
              "      <td>Direct</td>\n",
              "      <td>0</td>\n",
              "      <td>0</td>\n",
              "      <td>0</td>\n",
              "      <td>C</td>\n",
              "      <td>C</td>\n",
              "      <td>4</td>\n",
              "      <td>No Deposit</td>\n",
              "      <td>0.0</td>\n",
              "      <td>0</td>\n",
              "      <td>Transient</td>\n",
              "      <td>0.0</td>\n",
              "      <td>0</td>\n",
              "      <td>0</td>\n",
              "      <td>Check-Out</td>\n",
              "      <td>2015-07-01</td>\n",
              "    </tr>\n",
              "  </tbody>\n",
              "</table>\n",
              "</div>"
            ],
            "text/plain": [
              "          hotel  is_canceled  ...  reservation_status  reservation_status_date\n",
              "0  Resort Hotel            0  ...           Check-Out               2015-07-01\n",
              "1  Resort Hotel            0  ...           Check-Out               2015-07-01\n",
              "\n",
              "[2 rows x 31 columns]"
            ]
          },
          "metadata": {
            "tags": []
          },
          "execution_count": 28
        }
      ]
    },
    {
      "cell_type": "markdown",
      "metadata": {
        "id": "30iAxpXJKuMm"
      },
      "source": [
        "#Exploration"
      ]
    },
    {
      "cell_type": "code",
      "metadata": {
        "id": "vPpRG1EEKzz5"
      },
      "source": [
        "import datetime"
      ],
      "execution_count": 29,
      "outputs": []
    },
    {
      "cell_type": "code",
      "metadata": {
        "id": "nfzxgffHKyK0"
      },
      "source": [
        "df['date'] = df.apply(lambda row: datetime.datetime.strptime(str(row['arrival_date_year'])+'-'+row['arrival_date_month']+'-'+str(row['arrival_date_day_of_month']), '%Y-%B-%d'),axis=1)"
      ],
      "execution_count": 30,
      "outputs": []
    },
    {
      "cell_type": "code",
      "metadata": {
        "colab": {
          "base_uri": "https://localhost:8080/",
          "height": 366
        },
        "id": "tt6AnElLDWi0",
        "outputId": "0e08081f-1e4f-41af-90af-e2c05ca64879"
      },
      "source": [
        "df_0 =  pd.DataFrame(enumerate(df.is_canceled.value_counts()),index=['Not_canceled','canceled'],columns=['values','counts'])\n",
        "#print(df2)\n",
        "def percentage(val):\n",
        "  print(val)\n",
        "  return round((val*100)/df_0['counts'].sum(),2)\n",
        "\n",
        "df_0['percentage'] = df_0.apply(lambda x: percentage(x[1]),axis=1 )\n",
        "df_0 = df_0.drop('values',axis=1)\n",
        "print(df_0)\n",
        "plt.figure(figsize=(5,4)) # does not affect the following plot\n",
        "plt.bar(list(df_0.index),list(df_0['counts']),0.8,ec='black')\n",
        "\n"
      ],
      "execution_count": 32,
      "outputs": [
        {
          "output_type": "stream",
          "text": [
            "75166\n",
            "44224\n",
            "              counts  percentage\n",
            "Not_canceled   75166       62.96\n",
            "canceled       44224       37.04\n"
          ],
          "name": "stdout"
        },
        {
          "output_type": "execute_result",
          "data": {
            "text/plain": [
              "<BarContainer object of 2 artists>"
            ]
          },
          "metadata": {
            "tags": []
          },
          "execution_count": 32
        },
        {
          "output_type": "display_data",
          "data": {
            "image/png": "[encoded data removed]",
            "text/plain": [
              "<Figure size 360x288 with 1 Axes>"
            ]
          },
          "metadata": {
            "tags": [],
            "needs_background": "light"
          }
        }
      ]
    },
    {
      "cell_type": "code",
      "metadata": {
        "colab": {
          "base_uri": "https://localhost:8080/",
          "height": 370
        },
        "id": "HTsXOd91gA7M",
        "outputId": "fb823818-ca2d-4c9c-e688-19b4dd306bbf"
      },
      "source": [
        "df_0 =  pd.DataFrame(enumerate(df.is_canceled.value_counts()),index=['Not_canceled','canceled'],columns=['values','counts']).reset_index()\n",
        "df_0\n",
        "counts = df_0.counts.to_list()\n",
        "def percent(x):\n",
        "  return round(100*(x/sum(counts)),1)\n",
        "sns.barplot(x='index',y='counts',data=df_0)\n",
        "for i in range(0,2):\n",
        "  plt.text(i-0.15,counts[i]-6000,str(percent(counts[i]))+'%',fontsize=14)\n",
        "df_0"
      ],
      "execution_count": 35,
      "outputs": [
        {
          "output_type": "execute_result",
          "data": {
            "text/html": [
              "<div>\n",
              "<style scoped>\n",
              "    .dataframe tbody tr th:only-of-type {\n",
              "        vertical-align: middle;\n",
              "    }\n",
              "\n",
              "    .dataframe tbody tr th {\n",
              "        vertical-align: top;\n",
              "    }\n",
              "\n",
              "    .dataframe thead th {\n",
              "        text-align: right;\n",
              "    }\n",
              "</style>\n",
              "<table border=\"1\" class=\"dataframe\">\n",
              "  <thead>\n",
              "    <tr style=\"text-align: right;\">\n",
              "      <th></th>\n",
              "      <th>index</th>\n",
              "      <th>values</th>\n",
              "      <th>counts</th>\n",
              "    </tr>\n",
              "  </thead>\n",
              "  <tbody>\n",
              "    <tr>\n",
              "      <th>0</th>\n",
              "      <td>Not_canceled</td>\n",
              "      <td>0</td>\n",
              "      <td>75166</td>\n",
              "    </tr>\n",
              "    <tr>\n",
              "      <th>1</th>\n",
              "      <td>canceled</td>\n",
              "      <td>1</td>\n",
              "      <td>44224</td>\n",
              "    </tr>\n",
              "  </tbody>\n",
              "</table>\n",
              "</div>"
            ],
            "text/plain": [
              "          index  values  counts\n",
              "0  Not_canceled       0   75166\n",
              "1      canceled       1   44224"
            ]
          },
          "metadata": {
            "tags": []
          },
          "execution_count": 35
        },
        {
          "output_type": "display_data",
          "data": {
            "image/png": "[encoded data removed]",
            "text/plain": [
              "<Figure size 432x288 with 1 Axes>"
            ]
          },
          "metadata": {
            "tags": [],
            "needs_background": "light"
          }
        }
      ]
    },
    {
      "cell_type": "code",
      "metadata": {
        "colab": {
          "base_uri": "https://localhost:8080/",
          "height": 319
        },
        "id": "IByKPwkEjuGZ",
        "outputId": "e7915d41-50e2-42b1-d270-4889a25cf2b5"
      },
      "source": [
        "plt.figure(figsize=(5,5))\n",
        "plt.pie(df_0.counts,radius=1.2,autopct='%1.0f%%',startangle=90,labeldistance=0.28)#labels = df2['index'],\n",
        "plt.title('Percentage of Cancellations')\n",
        "plt.legend(labels=df_0['index'],loc='lower right')\n",
        "\n",
        "plt.show()"
      ],
      "execution_count": 36,
      "outputs": [
        {
          "output_type": "display_data",
          "data": {
            "image/png": "[encoded data removed]",
            "text/plain": [
              "<Figure size 360x360 with 1 Axes>"
            ]
          },
          "metadata": {
            "tags": []
          }
        }
      ]
    },
    {
      "cell_type": "markdown",
      "metadata": {
        "id": "1OoSrqI0nHmH"
      },
      "source": [
        "###We noticed that 37% of the total bookings got canceled."
      ]
    },
    {
      "cell_type": "markdown",
      "metadata": {
        "id": "_BPe5eGGy6jp"
      },
      "source": [
        "## 1.Type of hotel"
      ]
    },
    {
      "cell_type": "code",
      "metadata": {
        "colab": {
          "base_uri": "https://localhost:8080/",
          "height": 295
        },
        "id": "XgC1r2wxOUa8",
        "outputId": "1763b425-416a-4892-f245-0e8e97d632ca"
      },
      "source": [
        "df_1 = pd.DataFrame(df.groupby('hotel')['is_canceled'].value_counts())\n",
        "df_1 = df_1.rename(columns={\"is_canceled\": \"count\"})\n",
        "df_1 = df_1.reset_index()\n",
        "df_1\n",
        "sns.barplot(x='hotel',y='count',hue='is_canceled',data=df_1)\n",
        "plt.title('Type of hotel vs cancellations')\n",
        "plt.xlabel('Type of hotel')\n",
        "plt.ylabel('Count')\n",
        "plt.show()"
      ],
      "execution_count": 57,
      "outputs": [
        {
          "output_type": "display_data",
          "data": {
            "image/png": "[encoded data removed]",
            "text/plain": [
              "<Figure size 432x288 with 1 Axes>"
            ]
          },
          "metadata": {
            "tags": [],
            "needs_background": "light"
          }
        }
      ]
    },
    {
      "cell_type": "code",
      "metadata": {
        "colab": {
          "base_uri": "https://localhost:8080/",
          "height": 137
        },
        "id": "K76QxQUe_b0-",
        "outputId": "3f36777d-8efb-4a50-c7df-7591f3627654"
      },
      "source": [
        "df_11 = pd.DataFrame(df.groupby('hotel')['is_canceled'].mean()*100)\n",
        "df_11"
      ],
      "execution_count": 58,
      "outputs": [
        {
          "output_type": "execute_result",
          "data": {
            "text/html": [
              "<div>\n",
              "<style scoped>\n",
              "    .dataframe tbody tr th:only-of-type {\n",
              "        vertical-align: middle;\n",
              "    }\n",
              "\n",
              "    .dataframe tbody tr th {\n",
              "        vertical-align: top;\n",
              "    }\n",
              "\n",
              "    .dataframe thead th {\n",
              "        text-align: right;\n",
              "    }\n",
              "</style>\n",
              "<table border=\"1\" class=\"dataframe\">\n",
              "  <thead>\n",
              "    <tr style=\"text-align: right;\">\n",
              "      <th></th>\n",
              "      <th>is_canceled</th>\n",
              "    </tr>\n",
              "    <tr>\n",
              "      <th>hotel</th>\n",
              "      <th></th>\n",
              "    </tr>\n",
              "  </thead>\n",
              "  <tbody>\n",
              "    <tr>\n",
              "      <th>City Hotel</th>\n",
              "      <td>41.726963</td>\n",
              "    </tr>\n",
              "    <tr>\n",
              "      <th>Resort Hotel</th>\n",
              "      <td>27.763355</td>\n",
              "    </tr>\n",
              "  </tbody>\n",
              "</table>\n",
              "</div>"
            ],
            "text/plain": [
              "              is_canceled\n",
              "hotel                    \n",
              "City Hotel      41.726963\n",
              "Resort Hotel    27.763355"
            ]
          },
          "metadata": {
            "tags": []
          },
          "execution_count": 58
        }
      ]
    },
    {
      "cell_type": "markdown",
      "metadata": {
        "id": "sOSNugNSBw9Z"
      },
      "source": [
        "### We noticed that city hotels had higher rate of cancellations of 42% and resort hotels has a lower rate of cancellations of 28%"
      ]
    },
    {
      "cell_type": "markdown",
      "metadata": {
        "id": "lvSQ_kQdCfGM"
      },
      "source": [
        "We can conclude that people book city hotels more and also tend to cancel it easily, and people book resort hotels less but once book they do not cancel it easily."
      ]
    },
    {
      "cell_type": "markdown",
      "metadata": {
        "id": "M8vUMMpetSm8"
      },
      "source": [
        "##2.How does customer type effect cancellations?\n"
      ]
    },
    {
      "cell_type": "code",
      "metadata": {
        "colab": {
          "base_uri": "https://localhost:8080/",
          "height": 350
        },
        "id": "QkIoqLW-QX3U",
        "outputId": "7f44e126-9492-4b11-c327-b06a5bc0670f"
      },
      "source": [
        "plt.figure(figsize=(8,5))\n",
        "sns.barplot(y='is_canceled',x='customer_type', data=df, ci=None)#, hue='is_canceled')\n",
        "percentage = df.groupby('customer_type')['is_canceled'].mean().to_list()\n",
        "percentage = sorted(percentage,reverse=True)\n",
        "for i in range(0,4):\n",
        "  plt.text(i-0.3,round(percentage[i],2)-0.04,str(round(percentage[i]*100,2))+'%',fontsize=14)\n",
        "plt.title('Type of hotel vs Cancellation rate', loc='center')\n",
        "plt.xlabel('Type of hotel')\n",
        "plt.ylabel('Cancellation rate')\n",
        "\n",
        "plt.show()"
      ],
      "execution_count": 76,
      "outputs": [
        {
          "output_type": "display_data",
          "data": {
            "image/png": "[encoded data removed]",
            "text/plain": [
              "<Figure size 576x360 with 1 Axes>"
            ]
          },
          "metadata": {
            "tags": [],
            "needs_background": "light"
          }
        }
      ]
    },
    {
      "cell_type": "code",
      "metadata": {
        "id": "tWOSfEkNlqQb"
      },
      "source": [
        "df_2 = pd.DataFrame(df.groupby('customer_type')['is_canceled'].value_counts())\n",
        "df_2 = df_2.rename(columns={\"is_canceled\": \"count\"})\n",
        "df_2 = df_2.reset_index()\n"
      ],
      "execution_count": 60,
      "outputs": []
    },
    {
      "cell_type": "code",
      "metadata": {
        "colab": {
          "base_uri": "https://localhost:8080/",
          "height": 297
        },
        "id": "Dmumhgn4z3sZ",
        "outputId": "8715be76-9042-4353-9c17-92fead59b65a"
      },
      "source": [
        "sns.barplot(x='customer_type',y='count',hue='is_canceled',data=df_2)\n"
      ],
      "execution_count": 61,
      "outputs": [
        {
          "output_type": "execute_result",
          "data": {
            "text/plain": [
              "<matplotlib.axes._subplots.AxesSubplot at 0x7fae6cc31850>"
            ]
          },
          "metadata": {
            "tags": []
          },
          "execution_count": 61
        },
        {
          "output_type": "display_data",
          "data": {
            "image/png": "[encoded data removed]",
            "text/plain": [
              "<Figure size 432x288 with 1 Axes>"
            ]
          },
          "metadata": {
            "tags": [],
            "needs_background": "light"
          }
        }
      ]
    },
    {
      "cell_type": "code",
      "metadata": {
        "colab": {
          "base_uri": "https://localhost:8080/",
          "height": 299
        },
        "id": "B647u61tXXNp",
        "outputId": "a0e97b2a-3306-49bd-cccf-fe390076cc1e"
      },
      "source": [
        "sns.barplot(y='is_canceled',x='customer_type', data=df, hue='hotel', ci=None)\n",
        "#sns.barplot(y='is_canceled',x='customer_type', data=df, hue='hotel', ci=None)"
      ],
      "execution_count": 62,
      "outputs": [
        {
          "output_type": "execute_result",
          "data": {
            "text/plain": [
              "<matplotlib.axes._subplots.AxesSubplot at 0x7fae6cc94750>"
            ]
          },
          "metadata": {
            "tags": []
          },
          "execution_count": 62
        },
        {
          "output_type": "display_data",
          "data": {
            "image/png": "[encoded data removed]",
            "text/plain": [
              "<Figure size 432x288 with 1 Axes>"
            ]
          },
          "metadata": {
            "tags": [],
            "needs_background": "light"
          }
        }
      ]
    },
    {
      "cell_type": "markdown",
      "metadata": {
        "id": "ggGzwiZaD_VQ"
      },
      "source": [
        "### Transient type customers have highest cancellation rate and group customers have least cancellation rate."
      ]
    },
    {
      "cell_type": "markdown",
      "metadata": {
        "id": "M37xIZ_NEUiV"
      },
      "source": [
        "Here we noticed a similar trend as in type of hotel. Transient type customers booked rooms more but also canceled more, and grouped customers are less and they are more likely to stay in the hotel once booked. "
      ]
    },
    {
      "cell_type": "markdown",
      "metadata": {
        "id": "FOsi2kJIzNIK"
      },
      "source": [
        "##3.Variation of tendancy to cancellation over the months of the year."
      ]
    },
    {
      "cell_type": "code",
      "metadata": {
        "id": "Pu_evdYsGmAr"
      },
      "source": [
        "def compliment(a):\n",
        "  if a == 0:\n",
        "    return 1\n",
        "  else :\n",
        "    return 0\n",
        "df['is_not_canceled'] = df.is_canceled.apply(lambda x: compliment(x))\n"
      ],
      "execution_count": 85,
      "outputs": []
    },
    {
      "cell_type": "code",
      "metadata": {
        "colab": {
          "base_uri": "https://localhost:8080/",
          "height": 361
        },
        "id": "5iY28ot5EZsX",
        "outputId": "c0153b98-25bf-4a6e-ac25-352d523e424a"
      },
      "source": [
        "df_31 = df[df.arrival_date_year == 2015]\n",
        "months = ['January', 'February', 'March', 'April', 'May', 'June', 'July', 'August', 'September','October', 'November', 'December']\n",
        "df_31['arrival_date_month'] = pd.Categorical(df_31['arrival_date_month'], categories=months, ordered=True)\n",
        "\n",
        "plt.figure(figsize=(6,3))\n",
        "\n",
        "sns.lineplot(x='arrival_date_month', y='is_canceled', data=df_31)\n",
        "plt.title('Trend in cancelation rate over the year 2015')\n",
        "plt.xlabel('Months')\n",
        "plt.ylabel('Cancellation rate')\n",
        "plt.text(10,0.235,['scale 0 to 1'])\n",
        "plt.show()"
      ],
      "execution_count": 125,
      "outputs": [
        {
          "output_type": "stream",
          "text": [
            "/usr/local/lib/python3.7/dist-packages/ipykernel_launcher.py:3: SettingWithCopyWarning: \n",
            "A value is trying to be set on a copy of a slice from a DataFrame.\n",
            "Try using .loc[row_indexer,col_indexer] = value instead\n",
            "\n",
            "See the caveats in the documentation: https://pandas.pydata.org/pandas-docs/stable/user_guide/indexing.html#returning-a-view-versus-a-copy\n",
            "  This is separate from the ipykernel package so we can avoid doing imports until\n"
          ],
          "name": "stderr"
        },
        {
          "output_type": "display_data",
          "data": {
            "image/png": "[encoded data removed]",
            "text/plain": [
              "<Figure size 432x216 with 1 Axes>"
            ]
          },
          "metadata": {
            "tags": [],
            "needs_background": "light"
          }
        }
      ]
    },
    {
      "cell_type": "code",
      "metadata": {
        "colab": {
          "base_uri": "https://localhost:8080/",
          "height": 525
        },
        "id": "mN0931sCN7CE",
        "outputId": "1054f0dd-b533-4b5f-d7ba-8d23ab1518af"
      },
      "source": [
        "df_31 = df[df.arrival_date_year == 2016]\n",
        "months = ['January', 'February', 'March', 'April', 'May', 'June', 'July', 'August', 'September','October', 'November', 'December']\n",
        "df_31['arrival_date_month'] = pd.Categorical(df_31['arrival_date_month'], categories=months, ordered=True)\n",
        "\n",
        "plt.figure(figsize=(12,6))\n",
        "\n",
        "sns.lineplot(x='arrival_date_month', y='is_canceled', data=df_31)\n",
        "plt.title('Trend in cancelation rate over the year 2016')\n",
        "plt.xlabel('Months')\n",
        "plt.ylabel('Cancellation rate')\n",
        "plt.text(10,0.235,['scale 0 to 1'])\n",
        "plt.show()"
      ],
      "execution_count": 127,
      "outputs": [
        {
          "output_type": "stream",
          "text": [
            "/usr/local/lib/python3.7/dist-packages/ipykernel_launcher.py:3: SettingWithCopyWarning: \n",
            "A value is trying to be set on a copy of a slice from a DataFrame.\n",
            "Try using .loc[row_indexer,col_indexer] = value instead\n",
            "\n",
            "See the caveats in the documentation: https://pandas.pydata.org/pandas-docs/stable/user_guide/indexing.html#returning-a-view-versus-a-copy\n",
            "  This is separate from the ipykernel package so we can avoid doing imports until\n"
          ],
          "name": "stderr"
        },
        {
          "output_type": "display_data",
          "data": {
            "image/png": "[encoded data removed]",
            "text/plain": [
              "<Figure size 864x432 with 1 Axes>"
            ]
          },
          "metadata": {
            "tags": [],
            "needs_background": "light"
          }
        }
      ]
    },
    {
      "cell_type": "code",
      "metadata": {
        "colab": {
          "base_uri": "https://localhost:8080/",
          "height": 408
        },
        "id": "rvBcL0KaNi90",
        "outputId": "273ae8cf-ceb6-4e6d-a127-7cd0c831a3d7"
      },
      "source": [
        "df_31 = df[df.arrival_date_year == 2017]\n",
        "months = ['January', 'February', 'March', 'April', 'May', 'June', 'July', 'August', 'September','October', 'November', 'December']\n",
        "df_31['arrival_date_month'] = pd.Categorical(df_31['arrival_date_month'], categories=months, ordered=True)\n",
        "\n",
        "plt.figure(figsize=(6,3))\n",
        "\n",
        "sns.lineplot(x='arrival_date_month', y='is_canceled', data=df_31)\n",
        "plt.title('Trend in cancelation rate over the year 2017')\n",
        "plt.xlabel('Months')\n",
        "plt.ylabel('Cancellation rate')\n",
        "plt.text(10,0.235,['scale 0 to 1'])\n",
        "plt.show()"
      ],
      "execution_count": 126,
      "outputs": [
        {
          "output_type": "stream",
          "text": [
            "/usr/local/lib/python3.7/dist-packages/ipykernel_launcher.py:3: SettingWithCopyWarning: \n",
            "A value is trying to be set on a copy of a slice from a DataFrame.\n",
            "Try using .loc[row_indexer,col_indexer] = value instead\n",
            "\n",
            "See the caveats in the documentation: https://pandas.pydata.org/pandas-docs/stable/user_guide/indexing.html#returning-a-view-versus-a-copy\n",
            "  This is separate from the ipykernel package so we can avoid doing imports until\n"
          ],
          "name": "stderr"
        },
        {
          "output_type": "display_data",
          "data": {
            "image/png": "[encoded data removed]",
            "text/plain": [
              "<Figure size 432x216 with 1 Axes>"
            ]
          },
          "metadata": {
            "tags": [],
            "needs_background": "light"
          }
        }
      ]
    },
    {
      "cell_type": "code",
      "metadata": {
        "colab": {
          "base_uri": "https://localhost:8080/",
          "height": 492
        },
        "id": "fIqOwYMWNu8x",
        "outputId": "0b203ca7-0616-4e92-89d0-568710624270"
      },
      "source": [
        "df_31 = df\n",
        "months = ['January', 'February', 'March', 'April', 'May', 'June', 'July', 'August', 'September','October', 'November', 'December']\n",
        "df_31['arrival_date_month'] = pd.Categorical(df_31['arrival_date_month'], categories=months, ordered=True)\n",
        "\n",
        "plt.figure(figsize=(12,6))\n",
        "\n",
        "sns.lineplot(x='arrival_date_month', y='is_canceled', data=df_31)\n",
        "plt.title('Trend in cancelation rate over the months of the year')\n",
        "plt.xlabel('Months')\n",
        "plt.ylabel('Cancellation rate')\n",
        "plt.text(10,0.235,['scale 0 to 1'])\n",
        "plt.show()"
      ],
      "execution_count": 223,
      "outputs": [
        {
          "output_type": "display_data",
          "data": {
            "image/png": "[encoded data removed]",
            "text/plain": [
              "<Figure size 864x432 with 1 Axes>"
            ]
          },
          "metadata": {
            "tags": [],
            "needs_background": "light"
          }
        }
      ]
    },
    {
      "cell_type": "markdown",
      "metadata": {
        "id": "9dAFbz56aF9e"
      },
      "source": [
        "### (Check with the team) "
      ]
    },
    {
      "cell_type": "markdown",
      "metadata": {
        "id": "w1TK3P1OzfwA"
      },
      "source": [
        "## 4.Does the change no of booking changes affect the cancellation?"
      ]
    },
    {
      "cell_type": "code",
      "metadata": {
        "colab": {
          "base_uri": "https://localhost:8080/"
        },
        "id": "edeTlgbhzpyX",
        "outputId": "0386706c-aad6-4fa5-86de-d07a975ba99c"
      },
      "source": [
        "df.booking_changes.value_counts()[:10]"
      ],
      "execution_count": 190,
      "outputs": [
        {
          "output_type": "execute_result",
          "data": {
            "text/plain": [
              "0    101314\n",
              "1     12701\n",
              "2      3805\n",
              "3       927\n",
              "4       376\n",
              "5       118\n",
              "6        63\n",
              "7        31\n",
              "8        17\n",
              "9         8\n",
              "Name: booking_changes, dtype: int64"
            ]
          },
          "metadata": {
            "tags": []
          },
          "execution_count": 190
        }
      ]
    },
    {
      "cell_type": "code",
      "metadata": {
        "colab": {
          "base_uri": "https://localhost:8080/",
          "height": 404
        },
        "id": "T7BoTymw1RdL",
        "outputId": "9f596bf9-a246-4c8f-e48d-b3aea283366b"
      },
      "source": [
        "plt.figure(figsize=(12,6))\n",
        "\n",
        "sns.barplot(x='booking_changes',y='is_canceled',data=df,order=pd.value_counts(df['booking_changes']).iloc[:10].index, ci=None)\n",
        "percentage = df.groupby('booking_changes')['is_canceled'].mean().to_list()\n",
        "for i in range(0,10):\n",
        "  plt.text(i-0.2,round(percentage[i],2)+0.004,str(round(percentage[i]*100,2))+'%',fontsize=10)\n",
        "plt.title('Booking changes vs Cancellation rate')\n",
        "plt.xlabel('No of booking Changes')\n",
        "plt.ylabel('Cancellation rate')\n",
        "plt.show()"
      ],
      "execution_count": 222,
      "outputs": [
        {
          "output_type": "display_data",
          "data": {
            "image/png": "[encoded data removed]",
            "text/plain": [
              "<Figure size 864x432 with 1 Axes>"
            ]
          },
          "metadata": {
            "tags": [],
            "needs_background": "light"
          }
        }
      ]
    },
    {
      "cell_type": "markdown",
      "metadata": {
        "id": "_dO-ivSgZXQa"
      },
      "source": [
        "### We can notice that the cancellation rate was lower when the customers were allowed for changes"
      ]
    },
    {
      "cell_type": "markdown",
      "metadata": {
        "id": "qR1adaQQZoQU"
      },
      "source": [
        "Being liberal on allowing customers to change thier bookings can help in reducing the cancellation rate. However it is better to limit is to 5. "
      ]
    },
    {
      "cell_type": "markdown",
      "metadata": {
        "id": "h2aRVjyx3Qbh"
      },
      "source": [
        "##5.If the assigned room is not same as reserved room?"
      ]
    },
    {
      "cell_type": "code",
      "metadata": {
        "id": "1gbbdoqW69J4"
      },
      "source": [
        "df['same_room_assigned'] = np.where(df.reserved_room_type==df.assigned_room_type, 1 , 0)\n",
        "#df['col3'] = np.where(df['age'] <= 9, 'child', df['sex'])\n"
      ],
      "execution_count": 172,
      "outputs": []
    },
    {
      "cell_type": "code",
      "metadata": {
        "colab": {
          "base_uri": "https://localhost:8080/",
          "height": 295
        },
        "id": "Mtl6XDh27xOo",
        "outputId": "b3ce2b6d-b764-4eab-afe7-c8b3f6b727a6"
      },
      "source": [
        "sns.barplot(x='', y = 'is_canceled', data=df, ci=None)\n",
        "percentage = df.groupby('same_room_assigned')['is_canceled'].mean().to_list()\n",
        "for i in range(0,2):\n",
        "  plt.text(i-0.2,round(percentage[i],2)-0.03,str(round(percentage[i]*100,2))+'%',fontsize=14)\n",
        "plt.title('Room assigned vs Cancellation rate')\n",
        "plt.xlabel('Room assigned')\n",
        "plt.ylabel('Cancellation rate')\n",
        "plt.legend(['Same room not assigned'])\n",
        "plt.show()\n"
      ],
      "execution_count": 189,
      "outputs": [
        {
          "output_type": "display_data",
          "data": {
            "image/png": "[encoded data removed]",
            "text/plain": [
              "<Figure size 432x288 with 1 Axes>"
            ]
          },
          "metadata": {
            "tags": [],
            "needs_background": "light"
          }
        }
      ]
    },
    {
      "cell_type": "markdown",
      "metadata": {
        "id": "aLu_cgyCXWpB"
      },
      "source": [
        "### We noticed that when same room was not assigned, the cancellation rate was very low.It implies Assigning a better room drastically reduce the cancellation rate. "
      ]
    },
    {
      "cell_type": "markdown",
      "metadata": {
        "id": "LydrH4sX9asB"
      },
      "source": [
        "## 6.Cancellation rate based on deposit type "
      ]
    },
    {
      "cell_type": "code",
      "metadata": {
        "id": "NaaAhw-Z8N2J",
        "colab": {
          "base_uri": "https://localhost:8080/"
        },
        "outputId": "f776d57a-81ca-4594-cd88-ab7f6fcf60e9"
      },
      "source": [
        "df.deposit_type.value_counts()"
      ],
      "execution_count": 169,
      "outputs": [
        {
          "output_type": "execute_result",
          "data": {
            "text/plain": [
              "No Deposit    104641\n",
              "Non Refund     14587\n",
              "Refundable       162\n",
              "Name: deposit_type, dtype: int64"
            ]
          },
          "metadata": {
            "tags": []
          },
          "execution_count": 169
        }
      ]
    },
    {
      "cell_type": "code",
      "metadata": {
        "colab": {
          "base_uri": "https://localhost:8080/",
          "height": 280
        },
        "id": "5wEo0IuGQ3z9",
        "outputId": "550b9db2-08df-41c2-c0df-bd5ec4dc19db"
      },
      "source": [
        "sns.barplot(x='deposit_type', y = 'is_canceled', data=df, ci=None)\n",
        "percentage = df.groupby('deposit_type')['is_canceled'].mean().to_list()\n",
        "for i in range(0,3):\n",
        "  plt.text(i-0.2,round(percentage[i],2)-0.05,str(round(percentage[i]*100,2))+'%',fontsize=14)"
      ],
      "execution_count": 170,
      "outputs": [
        {
          "output_type": "display_data",
          "data": {
            "image/png": "[encoded data removed]",
            "text/plain": [
              "<Figure size 432x288 with 1 Axes>"
            ]
          },
          "metadata": {
            "tags": [],
            "needs_background": "light"
          }
        }
      ]
    },
    {
      "cell_type": "markdown",
      "metadata": {
        "id": "7swy0cv-UT58"
      },
      "source": [
        "### Not Insights"
      ]
    },
    {
      "cell_type": "code",
      "metadata": {
        "colab": {
          "base_uri": "https://localhost:8080/"
        },
        "id": "BImh6KpgRn-7",
        "outputId": "f5a19b40-09fd-42a8-e773-b678b04fa7b8"
      },
      "source": [
        "df.groupby('deposit_type')['is_canceled'].value_counts()\n"
      ],
      "execution_count": 171,
      "outputs": [
        {
          "output_type": "execute_result",
          "data": {
            "text/plain": [
              "deposit_type  is_canceled\n",
              "No Deposit    0              74947\n",
              "              1              29694\n",
              "Non Refund    1              14494\n",
              "              0                 93\n",
              "Refundable    0                126\n",
              "              1                 36\n",
              "Name: is_canceled, dtype: int64"
            ]
          },
          "metadata": {
            "tags": []
          },
          "execution_count": 171
        }
      ]
    },
    {
      "cell_type": "markdown",
      "metadata": {
        "id": "xKvgd44WTLOM"
      },
      "source": [
        "## 7.Variation in of cancellation based on market segment."
      ]
    },
    {
      "cell_type": "code",
      "metadata": {
        "colab": {
          "base_uri": "https://localhost:8080/"
        },
        "id": "1P_kYv9rZDjc",
        "outputId": "69041a1e-b634-47f8-9bdf-72d88f6b5683"
      },
      "source": [
        "#df_7 = df[df.market_segment!='Undefined']\n",
        "df_7 = df.drop(df.loc[df['market_segment']=='Undefined'].index,)\n",
        "print(df.shape,df_7.shape)"
      ],
      "execution_count": 156,
      "outputs": [
        {
          "output_type": "stream",
          "text": [
            "(119390, 33) (119388, 33)\n"
          ],
          "name": "stdout"
        }
      ]
    },
    {
      "cell_type": "code",
      "metadata": {
        "colab": {
          "base_uri": "https://localhost:8080/",
          "height": 256
        },
        "id": "Iqu2l5UHR6mE",
        "outputId": "de9c06a5-7224-44ef-fc96-5a604e8724b9"
      },
      "source": [
        "market_segment_df = df_7['market_segment'].value_counts().reset_index().rename(columns={'index':'market_segment', 'market_segment': 'count'})\n",
        "market_segment_df = market_segment_df.head(7)\n",
        "market_segment_df"
      ],
      "execution_count": 157,
      "outputs": [
        {
          "output_type": "execute_result",
          "data": {
            "text/html": [
              "<div>\n",
              "<style scoped>\n",
              "    .dataframe tbody tr th:only-of-type {\n",
              "        vertical-align: middle;\n",
              "    }\n",
              "\n",
              "    .dataframe tbody tr th {\n",
              "        vertical-align: top;\n",
              "    }\n",
              "\n",
              "    .dataframe thead th {\n",
              "        text-align: right;\n",
              "    }\n",
              "</style>\n",
              "<table border=\"1\" class=\"dataframe\">\n",
              "  <thead>\n",
              "    <tr style=\"text-align: right;\">\n",
              "      <th></th>\n",
              "      <th>market_segment</th>\n",
              "      <th>count</th>\n",
              "    </tr>\n",
              "  </thead>\n",
              "  <tbody>\n",
              "    <tr>\n",
              "      <th>0</th>\n",
              "      <td>Online TA</td>\n",
              "      <td>56477</td>\n",
              "    </tr>\n",
              "    <tr>\n",
              "      <th>1</th>\n",
              "      <td>Offline TA/TO</td>\n",
              "      <td>24219</td>\n",
              "    </tr>\n",
              "    <tr>\n",
              "      <th>2</th>\n",
              "      <td>Groups</td>\n",
              "      <td>19811</td>\n",
              "    </tr>\n",
              "    <tr>\n",
              "      <th>3</th>\n",
              "      <td>Direct</td>\n",
              "      <td>12606</td>\n",
              "    </tr>\n",
              "    <tr>\n",
              "      <th>4</th>\n",
              "      <td>Corporate</td>\n",
              "      <td>5295</td>\n",
              "    </tr>\n",
              "    <tr>\n",
              "      <th>5</th>\n",
              "      <td>Complementary</td>\n",
              "      <td>743</td>\n",
              "    </tr>\n",
              "    <tr>\n",
              "      <th>6</th>\n",
              "      <td>Aviation</td>\n",
              "      <td>237</td>\n",
              "    </tr>\n",
              "  </tbody>\n",
              "</table>\n",
              "</div>"
            ],
            "text/plain": [
              "  market_segment  count\n",
              "0      Online TA  56477\n",
              "1  Offline TA/TO  24219\n",
              "2         Groups  19811\n",
              "3         Direct  12606\n",
              "4      Corporate   5295\n",
              "5  Complementary    743\n",
              "6       Aviation    237"
            ]
          },
          "metadata": {
            "tags": []
          },
          "execution_count": 157
        }
      ]
    },
    {
      "cell_type": "code",
      "metadata": {
        "colab": {
          "base_uri": "https://localhost:8080/"
        },
        "id": "yOEVhRC2T3Br",
        "outputId": "2a1bee39-3dca-42cb-fbc7-061d1511ebfc"
      },
      "source": [
        "# extracting number of customer type\n",
        "market_segment_values = market_segment_df['count'].values\n",
        "market_segment_values"
      ],
      "execution_count": 158,
      "outputs": [
        {
          "output_type": "execute_result",
          "data": {
            "text/plain": [
              "array([56477, 24219, 19811, 12606,  5295,   743,   237])"
            ]
          },
          "metadata": {
            "tags": []
          },
          "execution_count": 158
        }
      ]
    },
    {
      "cell_type": "code",
      "metadata": {
        "colab": {
          "base_uri": "https://localhost:8080/"
        },
        "id": "1vbAmLaYW427",
        "outputId": "246d1291-a344-4817-d839-dcac16b6bf32"
      },
      "source": [
        "# extracting customer type for labelling \n",
        "market_segment_labels = market_segment_df['market_segment'].values\n",
        "market_segment_labels"
      ],
      "execution_count": 159,
      "outputs": [
        {
          "output_type": "execute_result",
          "data": {
            "text/plain": [
              "array(['Online TA', 'Offline TA/TO', 'Groups', 'Direct', 'Corporate',\n",
              "       'Complementary', 'Aviation'], dtype=object)"
            ]
          },
          "metadata": {
            "tags": []
          },
          "execution_count": 159
        }
      ]
    },
    {
      "cell_type": "code",
      "metadata": {
        "colab": {
          "base_uri": "https://localhost:8080/",
          "height": 440
        },
        "id": "KnhMDRHAXEVk",
        "outputId": "197b1537-3d42-4ebf-ca56-3fe59d926e7f"
      },
      "source": [
        "#Ploting pie plot\n",
        "myexplode = [0.2, 0, 0, 0,0.3,0.3,0.3]\n",
        "plt.pie(market_segment_values, labels = market_segment_labels,radius = 2,autopct='%1.0f%%', explode=myexplode, shadow = True)\n",
        "plt.show() "
      ],
      "execution_count": 160,
      "outputs": [
        {
          "output_type": "display_data",
          "data": {
            "image/png": "[encoded data removed]",
            "text/plain": [
              "<Figure size 432x288 with 1 Axes>"
            ]
          },
          "metadata": {
            "tags": []
          }
        }
      ]
    },
    {
      "cell_type": "code",
      "metadata": {
        "colab": {
          "base_uri": "https://localhost:8080/",
          "height": 404
        },
        "id": "OXcuDR6DXPPc",
        "outputId": "f36af398-89b4-4198-a7e0-49b314b80d94"
      },
      "source": [
        "List = ['Online TA', 'Offline TA/TO', 'Groups', 'Direct', 'Corporate','Complementary', 'Aviation']\n",
        "df['market_segment'] = pd.Categorical(df['market_segment'], categories=List, ordered=True)\n",
        "plt.figure(figsize=(10,6))\n",
        "sns.barplot(x='market_segment', y = 'is_canceled', data=df, ci=None)\n",
        "percentage = df.groupby('market_segment')['is_canceled'].mean().to_list()\n",
        "for i in range(0,7):\n",
        "  plt.text(i-0.25,round(percentage[i],2)-0.05,str(round(percentage[i]*100,2))+'%',fontsize=12)\n",
        "\n",
        "plt.title('Market Segment vs Cancellation rate')\n",
        "plt.xlabel('Market Segments')\n",
        "plt.ylabel('Cancellation rate')\n",
        "plt.show()\n"
      ],
      "execution_count": 168,
      "outputs": [
        {
          "output_type": "display_data",
          "data": {
            "image/png": "[encoded data removed]",
            "text/plain": [
              "<Figure size 720x432 with 1 Axes>"
            ]
          },
          "metadata": {
            "tags": [],
            "needs_background": "light"
          }
        }
      ]
    },
    {
      "cell_type": "markdown",
      "metadata": {
        "id": "bADWHELBT3le"
      },
      "source": [
        "### The customers who come from grouped market segments have a very high cancellation rate and direct and complimentary customers had the least cancellation rate. "
      ]
    },
    {
      "cell_type": "markdown",
      "metadata": {
        "id": "jBi9Sale66pp"
      },
      "source": [
        "## 8.How often does the repeated guest cancel the booking"
      ]
    },
    {
      "cell_type": "code",
      "metadata": {
        "colab": {
          "base_uri": "https://localhost:8080/",
          "height": 264
        },
        "id": "1OQgxiXq9ORy",
        "outputId": "81595f74-c854-48e8-cf53-04d332b13597"
      },
      "source": [
        "\n",
        "is_repeated = df.is_repeated_guest.value_counts().tolist()\n",
        "plt.pie(is_repeated, labels=['New guest','Repeated Guest'], radius=1.2, autopct='%1.0f%%')\n",
        "plt.title('Repeated guests')\n",
        "plt.show()"
      ],
      "execution_count": 148,
      "outputs": [
        {
          "output_type": "display_data",
          "data": {
            "image/png": "[encoded data removed]",
            "text/plain": [
              "<Figure size 432x288 with 1 Axes>"
            ]
          },
          "metadata": {
            "tags": []
          }
        }
      ]
    },
    {
      "cell_type": "code",
      "metadata": {
        "colab": {
          "base_uri": "https://localhost:8080/",
          "height": 280
        },
        "id": "l4eH6NljRIO-",
        "outputId": "a3a04b48-4932-4dcc-aee6-e933f8a7c5d0"
      },
      "source": [
        "sns.barplot(x='is_repeated_guest', y = 'is_canceled', data=df, ci=None)\n",
        "\n",
        "percentage = df.groupby('is_repeated_guest')['is_canceled'].mean().to_list()\n",
        "for i in range(0,2):\n",
        "  plt.text(i-0.15,round(percentage[i],2)-0.05,str(round(percentage[i]*100,2))+'%',fontsize=14)\n",
        "#sns.set_xticklabel(['New guest','Repeated Guest'])\n",
        "plt.show()"
      ],
      "execution_count": 153,
      "outputs": [
        {
          "output_type": "display_data",
          "data": {
            "image/png": "[encoded data removed]",
            "text/plain": [
              "<Figure size 432x288 with 1 Axes>"
            ]
          },
          "metadata": {
            "tags": [],
            "needs_background": "light"
          }
        }
      ]
    },
    {
      "cell_type": "markdown",
      "metadata": {
        "id": "LhHGKl3JSTll"
      },
      "source": [
        "### The number of repeated guests are low, but the repeated guests have a very low rate of cancelations. "
      ]
    },
    {
      "cell_type": "markdown",
      "metadata": {
        "id": "NgcVB0xUSi6b"
      },
      "source": [
        "Coming up with a stragies to change a new customer into retuning customer is one of the key ways to reduce the cancellation rate. "
      ]
    },
    {
      "cell_type": "markdown",
      "metadata": {
        "id": "qb303j-qC3-O"
      },
      "source": [
        "## 9.Does special request decrease the cancellation rate?"
      ]
    },
    {
      "cell_type": "code",
      "metadata": {
        "colab": {
          "base_uri": "https://localhost:8080/",
          "height": 404
        },
        "id": "QoCgkddQB_6g",
        "outputId": "8fb86dda-415a-4ade-d51a-09cdfc356272"
      },
      "source": [
        "plt.figure(figsize=(8,6))\n",
        "sns.barplot(x='total_of_special_requests', y = 'is_canceled', data=df, ci=None)\n",
        "percentage = df.groupby('total_of_special_requests')['is_canceled'].mean().to_list()\n",
        "for i in range(0,6):\n",
        "  plt.text(i-0.2,round(percentage[i],2)-0.04,str(round(percentage[i],2)*100)+'%',fontsize=10)\n",
        "plt.title('No of special request vs cancellation rate')\n",
        "plt.xlabel('No of special request')\n",
        "plt.ylabel('Cancellation rate')\n",
        "plt.show()\n"
      ],
      "execution_count": 141,
      "outputs": [
        {
          "output_type": "display_data",
          "data": {
            "image/png": "[encoded data removed]",
            "text/plain": [
              "<Figure size 576x432 with 1 Axes>"
            ]
          },
          "metadata": {
            "tags": [],
            "needs_background": "light"
          }
        }
      ]
    },
    {
      "cell_type": "markdown",
      "metadata": {
        "id": "VQeuLGuMQXat"
      },
      "source": [
        "### We notice that the cancellation rates are much lower if there are special requests. "
      ]
    },
    {
      "cell_type": "markdown",
      "metadata": {
        "id": "yhypEbmTQlzN"
      },
      "source": [
        "We should have encouraging pricing for special requests, that can help in reduction of cancellations."
      ]
    },
    {
      "cell_type": "markdown",
      "metadata": {
        "id": "hi1fN9R-FKoF"
      },
      "source": [
        "## 10.Which type of meal type bookings have highest number of bookings."
      ]
    },
    {
      "cell_type": "code",
      "metadata": {
        "colab": {
          "base_uri": "https://localhost:8080/",
          "height": 404
        },
        "id": "p1lN69kbH1YS",
        "outputId": "8ac52d7f-1483-41cb-b513-8ee4d4ff6c63"
      },
      "source": [
        "plt.figure(figsize=(10,6))\n",
        "sns.barplot(x='meal', y = 'is_canceled', data=df, ci=None)\n",
        "percentage = df.groupby('meal')['is_canceled'].mean().to_list()\n",
        "for i in range(0,5):\n",
        "  plt.text(i-0.2,round(percentage[i],2)-0.05,str(round(percentage[i],2)*100)+'%',fontsize=14)\n",
        "plt.title('Meal time vs cancellation rate')\n",
        "plt.xlabel('Meal Type')\n",
        "plt.ylabel('Cancellation rate')\n",
        "#plt.legend(['Bed & Breakfast',' Full Board','Half Board','SC','Unknown'])\n",
        "plt.show()"
      ],
      "execution_count": 134,
      "outputs": [
        {
          "output_type": "display_data",
          "data": {
            "image/png": "[encoded data removed]",
            "text/plain": [
              "<Figure size 720x432 with 1 Axes>"
            ]
          },
          "metadata": {
            "tags": [],
            "needs_background": "light"
          }
        }
      ]
    },
    {
      "cell_type": "markdown",
      "metadata": {
        "id": "FoX6gKpVPPXn"
      },
      "source": [
        "### We noticed that Full board bookings had the hight rate of cancellations and other meal type showed a simliar rate. "
      ]
    },
    {
      "cell_type": "code",
      "metadata": {
        "id": "EFcc7IhNLSIg"
      },
      "source": [
        ""
      ],
      "execution_count": null,
      "outputs": []
    }
  ]
}