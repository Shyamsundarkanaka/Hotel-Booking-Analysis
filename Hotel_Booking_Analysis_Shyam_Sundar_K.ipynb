{
  "nbformat": 4,
  "nbformat_minor": 0,
  "metadata": {
    "kernelspec": {
      "display_name": "Python 3",
      "language": "python",
      "name": "python3"
    },
    "language_info": {
      "codemirror_mode": {
        "name": "ipython",
        "version": 3
      },
      "file_extension": ".py",
      "mimetype": "text/x-python",
      "name": "python",
      "nbconvert_exporter": "python",
      "pygments_lexer": "ipython3",
      "version": "3.6.6"
    },
    "colab": {
      "name": "Hotel Booking Analysis - Shyam Sundar K.ipynb",
      "provenance": [],
      "collapsed_sections": [],
      "toc_visible": true,
      "include_colab_link": true
    }
  },
  "cells": [
    {
      "cell_type": "markdown",
      "metadata": {
        "id": "view-in-github",
        "colab_type": "text"
      },
      "source": [
        "<a href=\"https://colab.research.google.com/github/Shyamsundarkanaka/Hotel-Booking-Analysis/blob/main/Hotel_Booking_Analysis_Shyam_Sundar_K.ipynb\" target=\"_parent\"><img src=\"https://colab.research.google.com/assets/colab-badge.svg\" alt=\"Open In Colab\"/></a>"
      ]
    },
    {
      "cell_type": "markdown",
      "metadata": {
        "id": "Y06xIdG26kRF"
      },
      "source": [
        "## <b> Have you ever wondered when the best time of year to book a hotel room is? Or the optimal length of stay in order to get the best daily rate? What if you wanted to predict whether or not a hotel was likely to receive a disproportionately high number of special requests? This hotel booking dataset can help you explore those questions!\n",
        "\n",
        "## <b>This data set contains booking information for a city hotel and a resort hotel, and includes information such as when the booking was made, length of stay, the number of adults, children, and/or babies, and the number of available parking spaces, among other things. All personally identifying information has been removed from the data. </b>\n",
        "\n",
        "## <b> Explore and analyze the data to discover important factors that govern the bookings. </b>"
      ]
    },
    {
      "cell_type": "code",
      "metadata": {
        "id": "q6_Y4xldMFiT",
        "colab": {
          "base_uri": "https://localhost:8080/"
        },
        "outputId": "e7cf4a57-a34e-4b87-e23c-cc854439ab5c"
      },
      "source": [
        "from google.colab import drive\n",
        "drive.mount('/content/drive')"
      ],
      "execution_count": 28,
      "outputs": [
        {
          "output_type": "stream",
          "text": [
            "Drive already mounted at /content/drive; to attempt to forcibly remount, call drive.mount(\"/content/drive\", force_remount=True).\n"
          ],
          "name": "stdout"
        }
      ]
    },
    {
      "cell_type": "code",
      "metadata": {
        "id": "dByMsuzT8Tnw"
      },
      "source": [
        "path = '/content/drive/MyDrive/Colab Notebooks/Data science/Module 1/Hotel booking analysis/'"
      ],
      "execution_count": 29,
      "outputs": []
    },
    {
      "cell_type": "code",
      "metadata": {
        "id": "RoeLyw2JTmqZ"
      },
      "source": [
        "import numpy as np\n",
        "import pandas as pd\n",
        "\n",
        "import seaborn as sns\n",
        "import matplotlib.pyplot as plt\n",
        "%matplotlib inline"
      ],
      "execution_count": 30,
      "outputs": []
    },
    {
      "cell_type": "markdown",
      "metadata": {
        "id": "ODBGgOluUNdZ"
      },
      "source": [
        "#Importing Data and going through it to undertand it\n"
      ]
    },
    {
      "cell_type": "code",
      "metadata": {
        "id": "WqxTTAN-TtnR"
      },
      "source": [
        "path = '/content/drive/MyDrive/Colab Notebooks/Data science/Module 1/Hotel booking analysis - Shyam Sundar K /'\n",
        "\n",
        "df = pd.read_csv(path+ 'Hotel Bookings.csv')"
      ],
      "execution_count": 31,
      "outputs": []
    },
    {
      "cell_type": "code",
      "metadata": {
        "id": "4vA_bg4YT25r",
        "colab": {
          "base_uri": "https://localhost:8080/",
          "height": 300
        },
        "outputId": "e6cbd945-101a-4bf6-f267-1244e7b1d2cf"
      },
      "source": [
        "df.head()"
      ],
      "execution_count": 32,
      "outputs": [
        {
          "output_type": "execute_result",
          "data": {
            "text/html": [
              "<div>\n",
              "<style scoped>\n",
              "    .dataframe tbody tr th:only-of-type {\n",
              "        vertical-align: middle;\n",
              "    }\n",
              "\n",
              "    .dataframe tbody tr th {\n",
              "        vertical-align: top;\n",
              "    }\n",
              "\n",
              "    .dataframe thead th {\n",
              "        text-align: right;\n",
              "    }\n",
              "</style>\n",
              "<table border=\"1\" class=\"dataframe\">\n",
              "  <thead>\n",
              "    <tr style=\"text-align: right;\">\n",
              "      <th></th>\n",
              "      <th>hotel</th>\n",
              "      <th>is_canceled</th>\n",
              "      <th>lead_time</th>\n",
              "      <th>arrival_date_year</th>\n",
              "      <th>arrival_date_month</th>\n",
              "      <th>arrival_date_week_number</th>\n",
              "      <th>arrival_date_day_of_month</th>\n",
              "      <th>stays_in_weekend_nights</th>\n",
              "      <th>stays_in_week_nights</th>\n",
              "      <th>adults</th>\n",
              "      <th>children</th>\n",
              "      <th>babies</th>\n",
              "      <th>meal</th>\n",
              "      <th>country</th>\n",
              "      <th>market_segment</th>\n",
              "      <th>distribution_channel</th>\n",
              "      <th>is_repeated_guest</th>\n",
              "      <th>previous_cancellations</th>\n",
              "      <th>previous_bookings_not_canceled</th>\n",
              "      <th>reserved_room_type</th>\n",
              "      <th>assigned_room_type</th>\n",
              "      <th>booking_changes</th>\n",
              "      <th>deposit_type</th>\n",
              "      <th>agent</th>\n",
              "      <th>company</th>\n",
              "      <th>days_in_waiting_list</th>\n",
              "      <th>customer_type</th>\n",
              "      <th>adr</th>\n",
              "      <th>required_car_parking_spaces</th>\n",
              "      <th>total_of_special_requests</th>\n",
              "      <th>reservation_status</th>\n",
              "      <th>reservation_status_date</th>\n",
              "    </tr>\n",
              "  </thead>\n",
              "  <tbody>\n",
              "    <tr>\n",
              "      <th>0</th>\n",
              "      <td>Resort Hotel</td>\n",
              "      <td>0</td>\n",
              "      <td>342</td>\n",
              "      <td>2015</td>\n",
              "      <td>July</td>\n",
              "      <td>27</td>\n",
              "      <td>1</td>\n",
              "      <td>0</td>\n",
              "      <td>0</td>\n",
              "      <td>2</td>\n",
              "      <td>0.0</td>\n",
              "      <td>0</td>\n",
              "      <td>BB</td>\n",
              "      <td>PRT</td>\n",
              "      <td>Direct</td>\n",
              "      <td>Direct</td>\n",
              "      <td>0</td>\n",
              "      <td>0</td>\n",
              "      <td>0</td>\n",
              "      <td>C</td>\n",
              "      <td>C</td>\n",
              "      <td>3</td>\n",
              "      <td>No Deposit</td>\n",
              "      <td>NaN</td>\n",
              "      <td>NaN</td>\n",
              "      <td>0</td>\n",
              "      <td>Transient</td>\n",
              "      <td>0.0</td>\n",
              "      <td>0</td>\n",
              "      <td>0</td>\n",
              "      <td>Check-Out</td>\n",
              "      <td>2015-07-01</td>\n",
              "    </tr>\n",
              "    <tr>\n",
              "      <th>1</th>\n",
              "      <td>Resort Hotel</td>\n",
              "      <td>0</td>\n",
              "      <td>737</td>\n",
              "      <td>2015</td>\n",
              "      <td>July</td>\n",
              "      <td>27</td>\n",
              "      <td>1</td>\n",
              "      <td>0</td>\n",
              "      <td>0</td>\n",
              "      <td>2</td>\n",
              "      <td>0.0</td>\n",
              "      <td>0</td>\n",
              "      <td>BB</td>\n",
              "      <td>PRT</td>\n",
              "      <td>Direct</td>\n",
              "      <td>Direct</td>\n",
              "      <td>0</td>\n",
              "      <td>0</td>\n",
              "      <td>0</td>\n",
              "      <td>C</td>\n",
              "      <td>C</td>\n",
              "      <td>4</td>\n",
              "      <td>No Deposit</td>\n",
              "      <td>NaN</td>\n",
              "      <td>NaN</td>\n",
              "      <td>0</td>\n",
              "      <td>Transient</td>\n",
              "      <td>0.0</td>\n",
              "      <td>0</td>\n",
              "      <td>0</td>\n",
              "      <td>Check-Out</td>\n",
              "      <td>2015-07-01</td>\n",
              "    </tr>\n",
              "    <tr>\n",
              "      <th>2</th>\n",
              "      <td>Resort Hotel</td>\n",
              "      <td>0</td>\n",
              "      <td>7</td>\n",
              "      <td>2015</td>\n",
              "      <td>July</td>\n",
              "      <td>27</td>\n",
              "      <td>1</td>\n",
              "      <td>0</td>\n",
              "      <td>1</td>\n",
              "      <td>1</td>\n",
              "      <td>0.0</td>\n",
              "      <td>0</td>\n",
              "      <td>BB</td>\n",
              "      <td>GBR</td>\n",
              "      <td>Direct</td>\n",
              "      <td>Direct</td>\n",
              "      <td>0</td>\n",
              "      <td>0</td>\n",
              "      <td>0</td>\n",
              "      <td>A</td>\n",
              "      <td>C</td>\n",
              "      <td>0</td>\n",
              "      <td>No Deposit</td>\n",
              "      <td>NaN</td>\n",
              "      <td>NaN</td>\n",
              "      <td>0</td>\n",
              "      <td>Transient</td>\n",
              "      <td>75.0</td>\n",
              "      <td>0</td>\n",
              "      <td>0</td>\n",
              "      <td>Check-Out</td>\n",
              "      <td>2015-07-02</td>\n",
              "    </tr>\n",
              "    <tr>\n",
              "      <th>3</th>\n",
              "      <td>Resort Hotel</td>\n",
              "      <td>0</td>\n",
              "      <td>13</td>\n",
              "      <td>2015</td>\n",
              "      <td>July</td>\n",
              "      <td>27</td>\n",
              "      <td>1</td>\n",
              "      <td>0</td>\n",
              "      <td>1</td>\n",
              "      <td>1</td>\n",
              "      <td>0.0</td>\n",
              "      <td>0</td>\n",
              "      <td>BB</td>\n",
              "      <td>GBR</td>\n",
              "      <td>Corporate</td>\n",
              "      <td>Corporate</td>\n",
              "      <td>0</td>\n",
              "      <td>0</td>\n",
              "      <td>0</td>\n",
              "      <td>A</td>\n",
              "      <td>A</td>\n",
              "      <td>0</td>\n",
              "      <td>No Deposit</td>\n",
              "      <td>304.0</td>\n",
              "      <td>NaN</td>\n",
              "      <td>0</td>\n",
              "      <td>Transient</td>\n",
              "      <td>75.0</td>\n",
              "      <td>0</td>\n",
              "      <td>0</td>\n",
              "      <td>Check-Out</td>\n",
              "      <td>2015-07-02</td>\n",
              "    </tr>\n",
              "    <tr>\n",
              "      <th>4</th>\n",
              "      <td>Resort Hotel</td>\n",
              "      <td>0</td>\n",
              "      <td>14</td>\n",
              "      <td>2015</td>\n",
              "      <td>July</td>\n",
              "      <td>27</td>\n",
              "      <td>1</td>\n",
              "      <td>0</td>\n",
              "      <td>2</td>\n",
              "      <td>2</td>\n",
              "      <td>0.0</td>\n",
              "      <td>0</td>\n",
              "      <td>BB</td>\n",
              "      <td>GBR</td>\n",
              "      <td>Online TA</td>\n",
              "      <td>TA/TO</td>\n",
              "      <td>0</td>\n",
              "      <td>0</td>\n",
              "      <td>0</td>\n",
              "      <td>A</td>\n",
              "      <td>A</td>\n",
              "      <td>0</td>\n",
              "      <td>No Deposit</td>\n",
              "      <td>240.0</td>\n",
              "      <td>NaN</td>\n",
              "      <td>0</td>\n",
              "      <td>Transient</td>\n",
              "      <td>98.0</td>\n",
              "      <td>0</td>\n",
              "      <td>1</td>\n",
              "      <td>Check-Out</td>\n",
              "      <td>2015-07-03</td>\n",
              "    </tr>\n",
              "  </tbody>\n",
              "</table>\n",
              "</div>"
            ],
            "text/plain": [
              "          hotel  is_canceled  ...  reservation_status  reservation_status_date\n",
              "0  Resort Hotel            0  ...           Check-Out               2015-07-01\n",
              "1  Resort Hotel            0  ...           Check-Out               2015-07-01\n",
              "2  Resort Hotel            0  ...           Check-Out               2015-07-02\n",
              "3  Resort Hotel            0  ...           Check-Out               2015-07-02\n",
              "4  Resort Hotel            0  ...           Check-Out               2015-07-03\n",
              "\n",
              "[5 rows x 32 columns]"
            ]
          },
          "metadata": {
            "tags": []
          },
          "execution_count": 32
        }
      ]
    },
    {
      "cell_type": "code",
      "metadata": {
        "id": "1SEG3W6xUArk",
        "colab": {
          "base_uri": "https://localhost:8080/"
        },
        "outputId": "18360c2d-5e68-432c-83a2-c9111fe2947f"
      },
      "source": [
        "df.shape"
      ],
      "execution_count": 33,
      "outputs": [
        {
          "output_type": "execute_result",
          "data": {
            "text/plain": [
              "(119390, 32)"
            ]
          },
          "metadata": {
            "tags": []
          },
          "execution_count": 33
        }
      ]
    },
    {
      "cell_type": "code",
      "metadata": {
        "colab": {
          "base_uri": "https://localhost:8080/"
        },
        "id": "1nVamoWkUrqa",
        "outputId": "f12f7edb-4936-4554-8187-2d433d882387"
      },
      "source": [
        "df.info()"
      ],
      "execution_count": 34,
      "outputs": [
        {
          "output_type": "stream",
          "text": [
            "<class 'pandas.core.frame.DataFrame'>\n",
            "RangeIndex: 119390 entries, 0 to 119389\n",
            "Data columns (total 32 columns):\n",
            " #   Column                          Non-Null Count   Dtype  \n",
            "---  ------                          --------------   -----  \n",
            " 0   hotel                           119390 non-null  object \n",
            " 1   is_canceled                     119390 non-null  int64  \n",
            " 2   lead_time                       119390 non-null  int64  \n",
            " 3   arrival_date_year               119390 non-null  int64  \n",
            " 4   arrival_date_month              119390 non-null  object \n",
            " 5   arrival_date_week_number        119390 non-null  int64  \n",
            " 6   arrival_date_day_of_month       119390 non-null  int64  \n",
            " 7   stays_in_weekend_nights         119390 non-null  int64  \n",
            " 8   stays_in_week_nights            119390 non-null  int64  \n",
            " 9   adults                          119390 non-null  int64  \n",
            " 10  children                        119386 non-null  float64\n",
            " 11  babies                          119390 non-null  int64  \n",
            " 12  meal                            119390 non-null  object \n",
            " 13  country                         118902 non-null  object \n",
            " 14  market_segment                  119390 non-null  object \n",
            " 15  distribution_channel            119390 non-null  object \n",
            " 16  is_repeated_guest               119390 non-null  int64  \n",
            " 17  previous_cancellations          119390 non-null  int64  \n",
            " 18  previous_bookings_not_canceled  119390 non-null  int64  \n",
            " 19  reserved_room_type              119390 non-null  object \n",
            " 20  assigned_room_type              119390 non-null  object \n",
            " 21  booking_changes                 119390 non-null  int64  \n",
            " 22  deposit_type                    119390 non-null  object \n",
            " 23  agent                           103050 non-null  float64\n",
            " 24  company                         6797 non-null    float64\n",
            " 25  days_in_waiting_list            119390 non-null  int64  \n",
            " 26  customer_type                   119390 non-null  object \n",
            " 27  adr                             119390 non-null  float64\n",
            " 28  required_car_parking_spaces     119390 non-null  int64  \n",
            " 29  total_of_special_requests       119390 non-null  int64  \n",
            " 30  reservation_status              119390 non-null  object \n",
            " 31  reservation_status_date         119390 non-null  object \n",
            "dtypes: float64(4), int64(16), object(12)\n",
            "memory usage: 29.1+ MB\n"
          ],
          "name": "stdout"
        }
      ]
    },
    {
      "cell_type": "code",
      "metadata": {
        "id": "T1Pj34E5VITa",
        "colab": {
          "base_uri": "https://localhost:8080/"
        },
        "outputId": "a6f6b96f-461e-48b2-8a79-b6e6cf6c8e77"
      },
      "source": [
        "df.hotel.value_counts()"
      ],
      "execution_count": 35,
      "outputs": [
        {
          "output_type": "execute_result",
          "data": {
            "text/plain": [
              "City Hotel      79330\n",
              "Resort Hotel    40060\n",
              "Name: hotel, dtype: int64"
            ]
          },
          "metadata": {
            "tags": []
          },
          "execution_count": 35
        }
      ]
    },
    {
      "cell_type": "code",
      "metadata": {
        "id": "kFd-QzFVVV46",
        "colab": {
          "base_uri": "https://localhost:8080/"
        },
        "outputId": "f5a7e97b-0049-40bc-afc9-1b31a25a8517"
      },
      "source": [
        "df.customer_type.value_counts()"
      ],
      "execution_count": 36,
      "outputs": [
        {
          "output_type": "execute_result",
          "data": {
            "text/plain": [
              "Transient          89613\n",
              "Transient-Party    25124\n",
              "Contract            4076\n",
              "Group                577\n",
              "Name: customer_type, dtype: int64"
            ]
          },
          "metadata": {
            "tags": []
          },
          "execution_count": 36
        }
      ]
    },
    {
      "cell_type": "code",
      "metadata": {
        "id": "G5ths_M0WZ4S",
        "colab": {
          "base_uri": "https://localhost:8080/"
        },
        "outputId": "2784c0d6-032f-4a93-e76d-f7538c422e7b"
      },
      "source": [
        "print(df.columns[df.isna().any()].to_list)"
      ],
      "execution_count": 37,
      "outputs": [
        {
          "output_type": "stream",
          "text": [
            "<bound method IndexOpsMixin.tolist of Index(['children', 'country', 'agent', 'company'], dtype='object')>\n"
          ],
          "name": "stdout"
        }
      ]
    },
    {
      "cell_type": "code",
      "metadata": {
        "id": "hN6DK1DsXePL",
        "colab": {
          "base_uri": "https://localhost:8080/"
        },
        "outputId": "037d8446-cfcb-409d-bf56-dc0106e8a26a"
      },
      "source": [
        "df.columns[df.isna().any()]"
      ],
      "execution_count": 38,
      "outputs": [
        {
          "output_type": "execute_result",
          "data": {
            "text/plain": [
              "Index(['children', 'country', 'agent', 'company'], dtype='object')"
            ]
          },
          "metadata": {
            "tags": []
          },
          "execution_count": 38
        }
      ]
    },
    {
      "cell_type": "code",
      "metadata": {
        "id": "z6EP_9WbYLGq",
        "colab": {
          "base_uri": "https://localhost:8080/",
          "height": 166
        },
        "outputId": "93360898-decc-4aa2-818c-28596ba47838"
      },
      "source": [
        "df_x = pd.DataFrame(df[['children', 'country', 'agent', 'company']].isnull().sum(axis = 0)).reset_index().rename(columns={'index':'Column Name',0:'No of Null Values'})\n",
        "df_x.index = df_x.index + 1\n",
        "df_x"
      ],
      "execution_count": 39,
      "outputs": [
        {
          "output_type": "execute_result",
          "data": {
            "text/html": [
              "<div>\n",
              "<style scoped>\n",
              "    .dataframe tbody tr th:only-of-type {\n",
              "        vertical-align: middle;\n",
              "    }\n",
              "\n",
              "    .dataframe tbody tr th {\n",
              "        vertical-align: top;\n",
              "    }\n",
              "\n",
              "    .dataframe thead th {\n",
              "        text-align: right;\n",
              "    }\n",
              "</style>\n",
              "<table border=\"1\" class=\"dataframe\">\n",
              "  <thead>\n",
              "    <tr style=\"text-align: right;\">\n",
              "      <th></th>\n",
              "      <th>Column Name</th>\n",
              "      <th>No of Null Values</th>\n",
              "    </tr>\n",
              "  </thead>\n",
              "  <tbody>\n",
              "    <tr>\n",
              "      <th>1</th>\n",
              "      <td>children</td>\n",
              "      <td>4</td>\n",
              "    </tr>\n",
              "    <tr>\n",
              "      <th>2</th>\n",
              "      <td>country</td>\n",
              "      <td>488</td>\n",
              "    </tr>\n",
              "    <tr>\n",
              "      <th>3</th>\n",
              "      <td>agent</td>\n",
              "      <td>16340</td>\n",
              "    </tr>\n",
              "    <tr>\n",
              "      <th>4</th>\n",
              "      <td>company</td>\n",
              "      <td>112593</td>\n",
              "    </tr>\n",
              "  </tbody>\n",
              "</table>\n",
              "</div>"
            ],
            "text/plain": [
              "  Column Name  No of Null Values\n",
              "1    children                  4\n",
              "2     country                488\n",
              "3       agent              16340\n",
              "4     company             112593"
            ]
          },
          "metadata": {
            "tags": []
          },
          "execution_count": 39
        }
      ]
    },
    {
      "cell_type": "code",
      "metadata": {
        "colab": {
          "base_uri": "https://localhost:8080/",
          "height": 52
        },
        "id": "UAfW1fX-YaKS",
        "outputId": "4b147dd9-3ae2-48cf-bd3e-b90f282989a5"
      },
      "source": [
        "'''\n",
        "print(df.children.value_counts())\n",
        "print(df.country.value_counts())\n",
        "print(df.agent.value_counts())\n",
        "print(df.company.value_counts())\n",
        "'''\n"
      ],
      "execution_count": 40,
      "outputs": [
        {
          "output_type": "execute_result",
          "data": {
            "application/vnd.google.colaboratory.intrinsic+json": {
              "type": "string"
            },
            "text/plain": [
              "'\\nprint(df.children.value_counts())\\nprint(df.country.value_counts())\\nprint(df.agent.value_counts())\\nprint(df.company.value_counts())\\n'"
            ]
          },
          "metadata": {
            "tags": []
          },
          "execution_count": 40
        }
      ]
    },
    {
      "cell_type": "code",
      "metadata": {
        "colab": {
          "base_uri": "https://localhost:8080/"
        },
        "id": "vRiflgkNZw67",
        "outputId": "94a2665b-a62c-4c0f-e37e-cb219233dfb1"
      },
      "source": [
        "df.columns.to_list()"
      ],
      "execution_count": 41,
      "outputs": [
        {
          "output_type": "execute_result",
          "data": {
            "text/plain": [
              "['hotel',\n",
              " 'is_canceled',\n",
              " 'lead_time',\n",
              " 'arrival_date_year',\n",
              " 'arrival_date_month',\n",
              " 'arrival_date_week_number',\n",
              " 'arrival_date_day_of_month',\n",
              " 'stays_in_weekend_nights',\n",
              " 'stays_in_week_nights',\n",
              " 'adults',\n",
              " 'children',\n",
              " 'babies',\n",
              " 'meal',\n",
              " 'country',\n",
              " 'market_segment',\n",
              " 'distribution_channel',\n",
              " 'is_repeated_guest',\n",
              " 'previous_cancellations',\n",
              " 'previous_bookings_not_canceled',\n",
              " 'reserved_room_type',\n",
              " 'assigned_room_type',\n",
              " 'booking_changes',\n",
              " 'deposit_type',\n",
              " 'agent',\n",
              " 'company',\n",
              " 'days_in_waiting_list',\n",
              " 'customer_type',\n",
              " 'adr',\n",
              " 'required_car_parking_spaces',\n",
              " 'total_of_special_requests',\n",
              " 'reservation_status',\n",
              " 'reservation_status_date']"
            ]
          },
          "metadata": {
            "tags": []
          },
          "execution_count": 41
        }
      ]
    },
    {
      "cell_type": "code",
      "metadata": {
        "id": "mS62XUuxbLJD",
        "colab": {
          "base_uri": "https://localhost:8080/"
        },
        "outputId": "d7a0ab15-13e7-499b-b80e-2ee15572ba0c"
      },
      "source": [
        "print(df.children.value_counts())"
      ],
      "execution_count": 42,
      "outputs": [
        {
          "output_type": "stream",
          "text": [
            "0.0     110796\n",
            "1.0       4861\n",
            "2.0       3652\n",
            "3.0         76\n",
            "10.0         1\n",
            "Name: children, dtype: int64\n"
          ],
          "name": "stdout"
        }
      ]
    },
    {
      "cell_type": "markdown",
      "metadata": {
        "id": "Qgk2MQNFUXSy"
      },
      "source": [
        "#Data Cleansing"
      ]
    },
    {
      "cell_type": "code",
      "metadata": {
        "id": "SlkX7t7hTxJz"
      },
      "source": [
        "#Drop the company column as there too many missing values\n",
        "df = df.drop(['company'], axis=1)"
      ],
      "execution_count": 43,
      "outputs": []
    },
    {
      "cell_type": "code",
      "metadata": {
        "id": "4kuLtjaYUeSD",
        "colab": {
          "base_uri": "https://localhost:8080/"
        },
        "outputId": "cc36cda7-2031-4bea-9582-9998111e5d48"
      },
      "source": [
        "df.shape"
      ],
      "execution_count": 44,
      "outputs": [
        {
          "output_type": "execute_result",
          "data": {
            "text/plain": [
              "(119390, 31)"
            ]
          },
          "metadata": {
            "tags": []
          },
          "execution_count": 44
        }
      ]
    },
    {
      "cell_type": "code",
      "metadata": {
        "id": "euvZDT6dUmfE"
      },
      "source": [
        "# Replace Null Values with Mode for childen column\n",
        "df['children'].fillna(df.children.mode()[0], inplace=True)"
      ],
      "execution_count": 45,
      "outputs": []
    },
    {
      "cell_type": "code",
      "metadata": {
        "id": "sTM--vNoVBw0",
        "colab": {
          "base_uri": "https://localhost:8080/"
        },
        "outputId": "1371a58f-207a-47ca-b651-e1d0e9863271"
      },
      "source": [
        "df['children'].isnull().sum()"
      ],
      "execution_count": 46,
      "outputs": [
        {
          "output_type": "execute_result",
          "data": {
            "text/plain": [
              "0"
            ]
          },
          "metadata": {
            "tags": []
          },
          "execution_count": 46
        }
      ]
    },
    {
      "cell_type": "code",
      "metadata": {
        "id": "7lQ6bIzkYqqT",
        "colab": {
          "base_uri": "https://localhost:8080/"
        },
        "outputId": "19cd0dfa-7cce-4d3d-9ab3-f82bfe9f01a4"
      },
      "source": [
        "df.columns[df.isna().any()]"
      ],
      "execution_count": 47,
      "outputs": [
        {
          "output_type": "execute_result",
          "data": {
            "text/plain": [
              "Index(['country', 'agent'], dtype='object')"
            ]
          },
          "metadata": {
            "tags": []
          },
          "execution_count": 47
        }
      ]
    },
    {
      "cell_type": "code",
      "metadata": {
        "id": "deGx9Yn8hEoL"
      },
      "source": [
        "# Replace Null Values with Mode for country column\n",
        "df.country.fillna(df.country.mode()[0], inplace=True)"
      ],
      "execution_count": 48,
      "outputs": []
    },
    {
      "cell_type": "code",
      "metadata": {
        "id": "xa8NSILEjy2x",
        "colab": {
          "base_uri": "https://localhost:8080/"
        },
        "outputId": "f1db7526-213c-4683-867b-071d37e8a792"
      },
      "source": [
        "df.columns[df.isna().any()]"
      ],
      "execution_count": 49,
      "outputs": [
        {
          "output_type": "execute_result",
          "data": {
            "text/plain": [
              "Index(['agent'], dtype='object')"
            ]
          },
          "metadata": {
            "tags": []
          },
          "execution_count": 49
        }
      ]
    },
    {
      "cell_type": "code",
      "metadata": {
        "id": "fLSxZ8NDj0lz",
        "colab": {
          "base_uri": "https://localhost:8080/"
        },
        "outputId": "de2543a5-ec40-418e-c492-12b7ae8f19e1"
      },
      "source": [
        "df.agent.value_counts().sort_values()\n"
      ],
      "execution_count": 50,
      "outputs": [
        {
          "output_type": "execute_result",
          "data": {
            "text/plain": [
              "337.0        1\n",
              "90.0         1\n",
              "285.0        1\n",
              "497.0        1\n",
              "397.0        1\n",
              "         ...  \n",
              "7.0       3539\n",
              "14.0      3640\n",
              "1.0       7191\n",
              "240.0    13922\n",
              "9.0      31961\n",
              "Name: agent, Length: 333, dtype: int64"
            ]
          },
          "metadata": {
            "tags": []
          },
          "execution_count": 50
        }
      ]
    },
    {
      "cell_type": "code",
      "metadata": {
        "id": "WC4yVrYzksFL"
      },
      "source": [
        "#Replace Null value of agent column with  0\n",
        "df.agent.fillna(0, inplace=True)"
      ],
      "execution_count": 51,
      "outputs": []
    },
    {
      "cell_type": "code",
      "metadata": {
        "id": "iMn01Qt_nsnc",
        "colab": {
          "base_uri": "https://localhost:8080/"
        },
        "outputId": "cf7911c3-6e1d-4f0d-b749-35f87d6d7958"
      },
      "source": [
        "df.isna().sum()"
      ],
      "execution_count": 52,
      "outputs": [
        {
          "output_type": "execute_result",
          "data": {
            "text/plain": [
              "hotel                             0\n",
              "is_canceled                       0\n",
              "lead_time                         0\n",
              "arrival_date_year                 0\n",
              "arrival_date_month                0\n",
              "arrival_date_week_number          0\n",
              "arrival_date_day_of_month         0\n",
              "stays_in_weekend_nights           0\n",
              "stays_in_week_nights              0\n",
              "adults                            0\n",
              "children                          0\n",
              "babies                            0\n",
              "meal                              0\n",
              "country                           0\n",
              "market_segment                    0\n",
              "distribution_channel              0\n",
              "is_repeated_guest                 0\n",
              "previous_cancellations            0\n",
              "previous_bookings_not_canceled    0\n",
              "reserved_room_type                0\n",
              "assigned_room_type                0\n",
              "booking_changes                   0\n",
              "deposit_type                      0\n",
              "agent                             0\n",
              "days_in_waiting_list              0\n",
              "customer_type                     0\n",
              "adr                               0\n",
              "required_car_parking_spaces       0\n",
              "total_of_special_requests         0\n",
              "reservation_status                0\n",
              "reservation_status_date           0\n",
              "dtype: int64"
            ]
          },
          "metadata": {
            "tags": []
          },
          "execution_count": 52
        }
      ]
    },
    {
      "cell_type": "code",
      "metadata": {
        "id": "Q-KaCt1jnvcS",
        "colab": {
          "base_uri": "https://localhost:8080/",
          "height": 160
        },
        "outputId": "90c0ff15-c8ae-4988-842e-dfb6b9926f35"
      },
      "source": [
        "df.head(2\n",
        "        )"
      ],
      "execution_count": 53,
      "outputs": [
        {
          "output_type": "execute_result",
          "data": {
            "text/html": [
              "<div>\n",
              "<style scoped>\n",
              "    .dataframe tbody tr th:only-of-type {\n",
              "        vertical-align: middle;\n",
              "    }\n",
              "\n",
              "    .dataframe tbody tr th {\n",
              "        vertical-align: top;\n",
              "    }\n",
              "\n",
              "    .dataframe thead th {\n",
              "        text-align: right;\n",
              "    }\n",
              "</style>\n",
              "<table border=\"1\" class=\"dataframe\">\n",
              "  <thead>\n",
              "    <tr style=\"text-align: right;\">\n",
              "      <th></th>\n",
              "      <th>hotel</th>\n",
              "      <th>is_canceled</th>\n",
              "      <th>lead_time</th>\n",
              "      <th>arrival_date_year</th>\n",
              "      <th>arrival_date_month</th>\n",
              "      <th>arrival_date_week_number</th>\n",
              "      <th>arrival_date_day_of_month</th>\n",
              "      <th>stays_in_weekend_nights</th>\n",
              "      <th>stays_in_week_nights</th>\n",
              "      <th>adults</th>\n",
              "      <th>children</th>\n",
              "      <th>babies</th>\n",
              "      <th>meal</th>\n",
              "      <th>country</th>\n",
              "      <th>market_segment</th>\n",
              "      <th>distribution_channel</th>\n",
              "      <th>is_repeated_guest</th>\n",
              "      <th>previous_cancellations</th>\n",
              "      <th>previous_bookings_not_canceled</th>\n",
              "      <th>reserved_room_type</th>\n",
              "      <th>assigned_room_type</th>\n",
              "      <th>booking_changes</th>\n",
              "      <th>deposit_type</th>\n",
              "      <th>agent</th>\n",
              "      <th>days_in_waiting_list</th>\n",
              "      <th>customer_type</th>\n",
              "      <th>adr</th>\n",
              "      <th>required_car_parking_spaces</th>\n",
              "      <th>total_of_special_requests</th>\n",
              "      <th>reservation_status</th>\n",
              "      <th>reservation_status_date</th>\n",
              "    </tr>\n",
              "  </thead>\n",
              "  <tbody>\n",
              "    <tr>\n",
              "      <th>0</th>\n",
              "      <td>Resort Hotel</td>\n",
              "      <td>0</td>\n",
              "      <td>342</td>\n",
              "      <td>2015</td>\n",
              "      <td>July</td>\n",
              "      <td>27</td>\n",
              "      <td>1</td>\n",
              "      <td>0</td>\n",
              "      <td>0</td>\n",
              "      <td>2</td>\n",
              "      <td>0.0</td>\n",
              "      <td>0</td>\n",
              "      <td>BB</td>\n",
              "      <td>PRT</td>\n",
              "      <td>Direct</td>\n",
              "      <td>Direct</td>\n",
              "      <td>0</td>\n",
              "      <td>0</td>\n",
              "      <td>0</td>\n",
              "      <td>C</td>\n",
              "      <td>C</td>\n",
              "      <td>3</td>\n",
              "      <td>No Deposit</td>\n",
              "      <td>0.0</td>\n",
              "      <td>0</td>\n",
              "      <td>Transient</td>\n",
              "      <td>0.0</td>\n",
              "      <td>0</td>\n",
              "      <td>0</td>\n",
              "      <td>Check-Out</td>\n",
              "      <td>2015-07-01</td>\n",
              "    </tr>\n",
              "    <tr>\n",
              "      <th>1</th>\n",
              "      <td>Resort Hotel</td>\n",
              "      <td>0</td>\n",
              "      <td>737</td>\n",
              "      <td>2015</td>\n",
              "      <td>July</td>\n",
              "      <td>27</td>\n",
              "      <td>1</td>\n",
              "      <td>0</td>\n",
              "      <td>0</td>\n",
              "      <td>2</td>\n",
              "      <td>0.0</td>\n",
              "      <td>0</td>\n",
              "      <td>BB</td>\n",
              "      <td>PRT</td>\n",
              "      <td>Direct</td>\n",
              "      <td>Direct</td>\n",
              "      <td>0</td>\n",
              "      <td>0</td>\n",
              "      <td>0</td>\n",
              "      <td>C</td>\n",
              "      <td>C</td>\n",
              "      <td>4</td>\n",
              "      <td>No Deposit</td>\n",
              "      <td>0.0</td>\n",
              "      <td>0</td>\n",
              "      <td>Transient</td>\n",
              "      <td>0.0</td>\n",
              "      <td>0</td>\n",
              "      <td>0</td>\n",
              "      <td>Check-Out</td>\n",
              "      <td>2015-07-01</td>\n",
              "    </tr>\n",
              "  </tbody>\n",
              "</table>\n",
              "</div>"
            ],
            "text/plain": [
              "          hotel  is_canceled  ...  reservation_status  reservation_status_date\n",
              "0  Resort Hotel            0  ...           Check-Out               2015-07-01\n",
              "1  Resort Hotel            0  ...           Check-Out               2015-07-01\n",
              "\n",
              "[2 rows x 31 columns]"
            ]
          },
          "metadata": {
            "tags": []
          },
          "execution_count": 53
        }
      ]
    },
    {
      "cell_type": "markdown",
      "metadata": {
        "id": "30iAxpXJKuMm"
      },
      "source": [
        "#Exploration"
      ]
    },
    {
      "cell_type": "code",
      "metadata": {
        "id": "vPpRG1EEKzz5"
      },
      "source": [
        "import datetime"
      ],
      "execution_count": 54,
      "outputs": []
    },
    {
      "cell_type": "code",
      "metadata": {
        "id": "nfzxgffHKyK0"
      },
      "source": [
        "df['date'] = df.apply(lambda row: datetime.datetime.strptime(str(row['arrival_date_year'])+'-'+row['arrival_date_month']+'-'+str(row['arrival_date_day_of_month']), '%Y-%B-%d'),axis=1)"
      ],
      "execution_count": 55,
      "outputs": []
    },
    {
      "cell_type": "code",
      "metadata": {
        "id": "tt6AnElLDWi0",
        "colab": {
          "base_uri": "https://localhost:8080/",
          "height": 366
        },
        "outputId": "4b1dbd59-7dae-4cc7-a8e6-4a9175e1e20c"
      },
      "source": [
        "df_0 =  pd.DataFrame(enumerate(df.is_canceled.value_counts()),index=['Not_canceled','canceled'],columns=['values','counts'])\n",
        "#print(df2)\n",
        "def percentage(val):\n",
        "  print(val)\n",
        "  return round((val*100)/df_0['counts'].sum(),2)\n",
        "\n",
        "df_0['percentage'] = df_0.apply(lambda x: percentage(x[1]),axis=1 )\n",
        "df_0 = df_0.drop('values',axis=1)\n",
        "print(df_0)\n",
        "plt.figure(figsize=(5,4)) # does not affect the following plot\n",
        "plt.bar(list(df_0.index),list(df_0['counts']),0.8,ec='black')\n",
        "\n"
      ],
      "execution_count": 56,
      "outputs": [
        {
          "output_type": "stream",
          "text": [
            "75166\n",
            "44224\n",
            "              counts  percentage\n",
            "Not_canceled   75166       62.96\n",
            "canceled       44224       37.04\n"
          ],
          "name": "stdout"
        },
        {
          "output_type": "execute_result",
          "data": {
            "text/plain": [
              "<BarContainer object of 2 artists>"
            ]
          },
          "metadata": {
            "tags": []
          },
          "execution_count": 56
        },
        {
          "output_type": "display_data",
          "data": {
            "image/png": "[encoded data removed]",
            "text/plain": [
              "<Figure size 360x288 with 1 Axes>"
            ]
          },
          "metadata": {
            "tags": [],
            "needs_background": "light"
          }
        }
      ]
    },
    {
      "cell_type": "code",
      "metadata": {
        "id": "HTsXOd91gA7M",
        "colab": {
          "base_uri": "https://localhost:8080/",
          "height": 370
        },
        "outputId": "c0e6b195-5bf8-4740-e61b-47e624c2596a"
      },
      "source": [
        "df_0 =  pd.DataFrame(enumerate(df.is_canceled.value_counts()),index=['Not_canceled','canceled'],columns=['values','counts']).reset_index()\n",
        "df_0\n",
        "counts = df_0.counts.to_list()\n",
        "def percent(x):\n",
        "  return round(100*(x/sum(counts)),1)\n",
        "sns.barplot(x='index',y='counts',data=df_0)\n",
        "for i in range(0,2):\n",
        "  plt.text(i-0.15,counts[i]-6000,str(percent(counts[i]))+'%',fontsize=14)\n",
        "df_0"
      ],
      "execution_count": 57,
      "outputs": [
        {
          "output_type": "execute_result",
          "data": {
            "text/html": [
              "<div>\n",
              "<style scoped>\n",
              "    .dataframe tbody tr th:only-of-type {\n",
              "        vertical-align: middle;\n",
              "    }\n",
              "\n",
              "    .dataframe tbody tr th {\n",
              "        vertical-align: top;\n",
              "    }\n",
              "\n",
              "    .dataframe thead th {\n",
              "        text-align: right;\n",
              "    }\n",
              "</style>\n",
              "<table border=\"1\" class=\"dataframe\">\n",
              "  <thead>\n",
              "    <tr style=\"text-align: right;\">\n",
              "      <th></th>\n",
              "      <th>index</th>\n",
              "      <th>values</th>\n",
              "      <th>counts</th>\n",
              "    </tr>\n",
              "  </thead>\n",
              "  <tbody>\n",
              "    <tr>\n",
              "      <th>0</th>\n",
              "      <td>Not_canceled</td>\n",
              "      <td>0</td>\n",
              "      <td>75166</td>\n",
              "    </tr>\n",
              "    <tr>\n",
              "      <th>1</th>\n",
              "      <td>canceled</td>\n",
              "      <td>1</td>\n",
              "      <td>44224</td>\n",
              "    </tr>\n",
              "  </tbody>\n",
              "</table>\n",
              "</div>"
            ],
            "text/plain": [
              "          index  values  counts\n",
              "0  Not_canceled       0   75166\n",
              "1      canceled       1   44224"
            ]
          },
          "metadata": {
            "tags": []
          },
          "execution_count": 57
        },
        {
          "output_type": "display_data",
          "data": {
            "image/png": "[encoded data removed]",
            "text/plain": [
              "<Figure size 432x288 with 1 Axes>"
            ]
          },
          "metadata": {
            "tags": [],
            "needs_background": "light"
          }
        }
      ]
    },
    {
      "cell_type": "code",
      "metadata": {
        "id": "IByKPwkEjuGZ",
        "colab": {
          "base_uri": "https://localhost:8080/",
          "height": 319
        },
        "outputId": "f0f483ca-f7b3-4bde-aafc-777e528014a0"
      },
      "source": [
        "plt.figure(figsize=(5,5))\n",
        "plt.pie(df_0.counts,radius=1.2,autopct='%1.0f%%',startangle=90,labeldistance=0.28)#labels = df2['index'],\n",
        "plt.title('Percentage of Cancellations')\n",
        "plt.legend(labels=df_0['index'],loc='lower right')\n",
        "\n",
        "plt.show()"
      ],
      "execution_count": 58,
      "outputs": [
        {
          "output_type": "display_data",
          "data": {
            "image/png": "[encoded data removed]",
            "text/plain": [
              "<Figure size 360x360 with 1 Axes>"
            ]
          },
          "metadata": {
            "tags": []
          }
        }
      ]
    },
    {
      "cell_type": "markdown",
      "metadata": {
        "id": "1OoSrqI0nHmH"
      },
      "source": [
        "###We noticed that 37% of the total bookings got canceled."
      ]
    },
    {
      "cell_type": "markdown",
      "metadata": {
        "id": "_BPe5eGGy6jp"
      },
      "source": [
        "## 1.Type of hotel"
      ]
    },
    {
      "cell_type": "code",
      "metadata": {
        "colab": {
          "base_uri": "https://localhost:8080/",
          "height": 295
        },
        "id": "XgC1r2wxOUa8",
        "outputId": "81ecb267-bf42-43cd-b90c-693444fa87ae"
      },
      "source": [
        "df_1 = pd.DataFrame(df.groupby('hotel')['is_canceled'].value_counts())\n",
        "df_1 = df_1.rename(columns={\"is_canceled\": \"count\"})\n",
        "df_1 = df_1.reset_index()\n",
        "df_1\n",
        "sns.barplot(x='hotel',y='count',hue='is_canceled',data=df_1)\n",
        "plt.title('Type of hotel vs cancellations')\n",
        "plt.xlabel('Type of hotel')\n",
        "plt.ylabel('Count')\n",
        "#plt.legend(['a','b'])\n",
        "plt.show()\n"
      ],
      "execution_count": 59,
      "outputs": [
        {
          "output_type": "display_data",
          "data": {
            "image/png": "[encoded data removed]",
            "text/plain": [
              "<Figure size 432x288 with 1 Axes>"
            ]
          },
          "metadata": {
            "tags": [],
            "needs_background": "light"
          }
        }
      ]
    },
    {
      "cell_type": "code",
      "metadata": {
        "id": "K76QxQUe_b0-",
        "colab": {
          "base_uri": "https://localhost:8080/",
          "height": 137
        },
        "outputId": "2dd45222-5960-4a59-fd8f-7f90efb33af8"
      },
      "source": [
        "df_11 = pd.DataFrame(df.groupby('hotel')['is_canceled'].mean()*100)\n",
        "df_11"
      ],
      "execution_count": 60,
      "outputs": [
        {
          "output_type": "execute_result",
          "data": {
            "text/html": [
              "<div>\n",
              "<style scoped>\n",
              "    .dataframe tbody tr th:only-of-type {\n",
              "        vertical-align: middle;\n",
              "    }\n",
              "\n",
              "    .dataframe tbody tr th {\n",
              "        vertical-align: top;\n",
              "    }\n",
              "\n",
              "    .dataframe thead th {\n",
              "        text-align: right;\n",
              "    }\n",
              "</style>\n",
              "<table border=\"1\" class=\"dataframe\">\n",
              "  <thead>\n",
              "    <tr style=\"text-align: right;\">\n",
              "      <th></th>\n",
              "      <th>is_canceled</th>\n",
              "    </tr>\n",
              "    <tr>\n",
              "      <th>hotel</th>\n",
              "      <th></th>\n",
              "    </tr>\n",
              "  </thead>\n",
              "  <tbody>\n",
              "    <tr>\n",
              "      <th>City Hotel</th>\n",
              "      <td>41.726963</td>\n",
              "    </tr>\n",
              "    <tr>\n",
              "      <th>Resort Hotel</th>\n",
              "      <td>27.763355</td>\n",
              "    </tr>\n",
              "  </tbody>\n",
              "</table>\n",
              "</div>"
            ],
            "text/plain": [
              "              is_canceled\n",
              "hotel                    \n",
              "City Hotel      41.726963\n",
              "Resort Hotel    27.763355"
            ]
          },
          "metadata": {
            "tags": []
          },
          "execution_count": 60
        }
      ]
    },
    {
      "cell_type": "markdown",
      "metadata": {
        "id": "sOSNugNSBw9Z"
      },
      "source": [
        "### We noticed that city hotels had higher rate of cancellations of 42% and resort hotels has a lower rate of cancellations of 28%"
      ]
    },
    {
      "cell_type": "markdown",
      "metadata": {
        "id": "lvSQ_kQdCfGM"
      },
      "source": [
        "We can conclude that people book city hotels more and also tend to cancel it easily, and people book resort hotels less but once book they do not cancel it easily."
      ]
    },
    {
      "cell_type": "markdown",
      "metadata": {
        "id": "M8vUMMpetSm8"
      },
      "source": [
        "##2.How does customer type effect cancellations?\n"
      ]
    },
    {
      "cell_type": "code",
      "metadata": {
        "id": "QkIoqLW-QX3U",
        "colab": {
          "base_uri": "https://localhost:8080/",
          "height": 366
        },
        "outputId": "b444aa0d-aa08-4e6d-8f5d-96e47f0eca3a"
      },
      "source": [
        "plt.figure(figsize=(8,5))\n",
        "sns.barplot(y='is_canceled',x='customer_type', data=df, ci=None)#, hue='is_canceled')\n",
        "percentage = df.groupby('customer_type')['is_canceled'].mean().to_list()\n",
        "percentage = sorted(percentage,reverse=True)\n",
        "for i in range(0,4):\n",
        "  plt.text(i-0.225,round(percentage[i],2)-0.04,str(round(percentage[i]*100,2))+'%',fontsize=14)\n",
        "plt.title('Type of hotel vs Cancellation rate', loc='center')\n",
        "plt.xlabel('Type of Customer')\n",
        "plt.ylabel('Cancellation rate')\n",
        "plt.legend()\n",
        "plt.show()"
      ],
      "execution_count": 61,
      "outputs": [
        {
          "output_type": "stream",
          "text": [
            "No handles with labels found to put in legend.\n"
          ],
          "name": "stderr"
        },
        {
          "output_type": "display_data",
          "data": {
            "image/png": "[encoded data removed]",
            "text/plain": [
              "<Figure size 576x360 with 1 Axes>"
            ]
          },
          "metadata": {
            "tags": [],
            "needs_background": "light"
          }
        }
      ]
    },
    {
      "cell_type": "code",
      "metadata": {
        "id": "tWOSfEkNlqQb"
      },
      "source": [
        "df_2 = pd.DataFrame(df.groupby('customer_type')['is_canceled'].value_counts())\n",
        "df_2 = df_2.rename(columns={\"is_canceled\": \"count\"})\n",
        "df_2 = df_2.reset_index()\n"
      ],
      "execution_count": 62,
      "outputs": []
    },
    {
      "cell_type": "code",
      "metadata": {
        "id": "Dmumhgn4z3sZ",
        "colab": {
          "base_uri": "https://localhost:8080/",
          "height": 297
        },
        "outputId": "378e18ad-4b52-471a-8ca8-a868edacc607"
      },
      "source": [
        "sns.barplot(x='customer_type',y='count',hue='is_canceled',data=df_2)\n"
      ],
      "execution_count": 63,
      "outputs": [
        {
          "output_type": "execute_result",
          "data": {
            "text/plain": [
              "<matplotlib.axes._subplots.AxesSubplot at 0x7f5574cf3690>"
            ]
          },
          "metadata": {
            "tags": []
          },
          "execution_count": 63
        },
        {
          "output_type": "display_data",
          "data": {
            "image/png": "[encoded data removed]",
            "text/plain": [
              "<Figure size 432x288 with 1 Axes>"
            ]
          },
          "metadata": {
            "tags": [],
            "needs_background": "light"
          }
        }
      ]
    },
    {
      "cell_type": "code",
      "metadata": {
        "id": "B647u61tXXNp",
        "colab": {
          "base_uri": "https://localhost:8080/",
          "height": 299
        },
        "outputId": "21817954-cf9f-4098-fb62-5cd69cb92e89"
      },
      "source": [
        "sns.barplot(y='is_canceled',x='customer_type', data=df, hue='hotel', ci=None)\n",
        "#sns.barplot(y='is_canceled',x='customer_type', data=df, hue='hotel', ci=None)"
      ],
      "execution_count": 64,
      "outputs": [
        {
          "output_type": "execute_result",
          "data": {
            "text/plain": [
              "<matplotlib.axes._subplots.AxesSubplot at 0x7f5575935790>"
            ]
          },
          "metadata": {
            "tags": []
          },
          "execution_count": 64
        },
        {
          "output_type": "display_data",
          "data": {
            "image/png": "[encoded data removed]",
            "text/plain": [
              "<Figure size 432x288 with 1 Axes>"
            ]
          },
          "metadata": {
            "tags": [],
            "needs_background": "light"
          }
        }
      ]
    },
    {
      "cell_type": "markdown",
      "metadata": {
        "id": "ggGzwiZaD_VQ"
      },
      "source": [
        "### Transient type customers have highest cancellation rate and Group customers have least cancellation rate and Contract and Transient-Party type were intermediate."
      ]
    },
    {
      "cell_type": "markdown",
      "metadata": {
        "id": "M37xIZ_NEUiV"
      },
      "source": [
        "Here we noticed a similar trend as in type of hotel. The more the number of bookings from a single type of customers, higher is the tendancy to cancel and vice versa. "
      ]
    },
    {
      "cell_type": "markdown",
      "metadata": {
        "id": "FOsi2kJIzNIK"
      },
      "source": [
        "##3.Variation of tendancy to cancellation over the months of the year."
      ]
    },
    {
      "cell_type": "code",
      "metadata": {
        "id": "Pu_evdYsGmAr"
      },
      "source": [
        "def compliment(a):\n",
        "  if a == 0:\n",
        "    return 1\n",
        "  else :\n",
        "    return 0\n",
        "df['is_not_canceled'] = df.is_canceled.apply(lambda x: compliment(x))\n"
      ],
      "execution_count": 65,
      "outputs": []
    },
    {
      "cell_type": "code",
      "metadata": {
        "id": "5iY28ot5EZsX",
        "colab": {
          "base_uri": "https://localhost:8080/",
          "height": 361
        },
        "outputId": "d65a6f50-f538-4577-cda6-a08e8c69a8a5"
      },
      "source": [
        "df_31 = df[df.arrival_date_year == 2015]\n",
        "months = ['January', 'February', 'March', 'April', 'May', 'June', 'July', 'August', 'September','October', 'November', 'December']\n",
        "df_31['arrival_date_month'] = pd.Categorical(df_31['arrival_date_month'], categories=months, ordered=True)\n",
        "\n",
        "plt.figure(figsize=(6,3))\n",
        "\n",
        "sns.lineplot(x='arrival_date_month', y='is_canceled', data=df_31)\n",
        "plt.title('Trend in cancelation rate over the year 2015')\n",
        "plt.xlabel('Months')\n",
        "plt.ylabel('Cancellation rate')\n",
        "plt.text(10,0.235,['scale 0 to 1'])\n",
        "plt.show()"
      ],
      "execution_count": 66,
      "outputs": [
        {
          "output_type": "stream",
          "text": [
            "/usr/local/lib/python3.7/dist-packages/ipykernel_launcher.py:3: SettingWithCopyWarning: \n",
            "A value is trying to be set on a copy of a slice from a DataFrame.\n",
            "Try using .loc[row_indexer,col_indexer] = value instead\n",
            "\n",
            "See the caveats in the documentation: https://pandas.pydata.org/pandas-docs/stable/user_guide/indexing.html#returning-a-view-versus-a-copy\n",
            "  This is separate from the ipykernel package so we can avoid doing imports until\n"
          ],
          "name": "stderr"
        },
        {
          "output_type": "display_data",
          "data": {
            "image/png": "[encoded data removed]",
            "text/plain": [
              "<Figure size 432x216 with 1 Axes>"
            ]
          },
          "metadata": {
            "tags": [],
            "needs_background": "light"
          }
        }
      ]
    },
    {
      "cell_type": "code",
      "metadata": {
        "id": "mN0931sCN7CE",
        "colab": {
          "base_uri": "https://localhost:8080/",
          "height": 525
        },
        "outputId": "fc7c40ac-c950-461b-fdf2-736d6ac1cc57"
      },
      "source": [
        "df_31 = df[df.arrival_date_year == 2016]\n",
        "months = ['January', 'February', 'March', 'April', 'May', 'June', 'July', 'August', 'September','October', 'November', 'December']\n",
        "df_31['arrival_date_month'] = pd.Categorical(df_31['arrival_date_month'], categories=months, ordered=True)\n",
        "\n",
        "plt.figure(figsize=(12,6))\n",
        "\n",
        "sns.lineplot(x='arrival_date_month', y='is_canceled', data=df_31)\n",
        "plt.title('Trend in cancelation rate over the year 2016')\n",
        "plt.xlabel('Months')\n",
        "plt.ylabel('Cancellation rate')\n",
        "plt.text(10,0.235,['scale 0 to 1'])\n",
        "plt.show()"
      ],
      "execution_count": 67,
      "outputs": [
        {
          "output_type": "stream",
          "text": [
            "/usr/local/lib/python3.7/dist-packages/ipykernel_launcher.py:3: SettingWithCopyWarning: \n",
            "A value is trying to be set on a copy of a slice from a DataFrame.\n",
            "Try using .loc[row_indexer,col_indexer] = value instead\n",
            "\n",
            "See the caveats in the documentation: https://pandas.pydata.org/pandas-docs/stable/user_guide/indexing.html#returning-a-view-versus-a-copy\n",
            "  This is separate from the ipykernel package so we can avoid doing imports until\n"
          ],
          "name": "stderr"
        },
        {
          "output_type": "display_data",
          "data": {
            "image/png": "[encoded data removed]",
            "text/plain": [
              "<Figure size 864x432 with 1 Axes>"
            ]
          },
          "metadata": {
            "tags": [],
            "needs_background": "light"
          }
        }
      ]
    },
    {
      "cell_type": "code",
      "metadata": {
        "id": "rvBcL0KaNi90",
        "colab": {
          "base_uri": "https://localhost:8080/",
          "height": 406
        },
        "outputId": "b38d23d1-e555-423f-880c-4aeab8711c88"
      },
      "source": [
        "df_31 = df[df.arrival_date_year == 2017]\n",
        "months = ['January', 'February', 'March', 'April', 'May', 'June', 'July', 'August', 'September','October', 'November', 'December']\n",
        "df_31['arrival_date_month'] = pd.Categorical(df_31['arrival_date_month'], categories=months, ordered=True)\n",
        "\n",
        "plt.figure(figsize=(6,3))\n",
        "\n",
        "sns.lineplot(x='arrival_date_month', y='is_canceled', data=df_31)\n",
        "plt.title('Trend in cancelation rate over the year 2017')\n",
        "plt.xlabel('Months')\n",
        "plt.ylabel('Cancellation rate')\n",
        "plt.text(10,0.235,['scale 0 to 1'])\n",
        "plt.show()"
      ],
      "execution_count": 68,
      "outputs": [
        {
          "output_type": "stream",
          "text": [
            "/usr/local/lib/python3.7/dist-packages/ipykernel_launcher.py:3: SettingWithCopyWarning: \n",
            "A value is trying to be set on a copy of a slice from a DataFrame.\n",
            "Try using .loc[row_indexer,col_indexer] = value instead\n",
            "\n",
            "See the caveats in the documentation: https://pandas.pydata.org/pandas-docs/stable/user_guide/indexing.html#returning-a-view-versus-a-copy\n",
            "  This is separate from the ipykernel package so we can avoid doing imports until\n"
          ],
          "name": "stderr"
        },
        {
          "output_type": "display_data",
          "data": {
            "image/png": "[encoded data removed]",
            "text/plain": [
              "<Figure size 432x216 with 1 Axes>"
            ]
          },
          "metadata": {
            "tags": [],
            "needs_background": "light"
          }
        }
      ]
    },
    {
      "cell_type": "code",
      "metadata": {
        "id": "fIqOwYMWNu8x",
        "colab": {
          "base_uri": "https://localhost:8080/",
          "height": 493
        },
        "outputId": "3555f768-71a3-4fd9-a47a-f9e958ecc1e2"
      },
      "source": [
        "df_31 = df\n",
        "months = ['January', 'February', 'March', 'April', 'May', 'June', 'July', 'August', 'September','October', 'November', 'December']\n",
        "df_31['arrival_date_month'] = pd.Categorical(df_31['arrival_date_month'], categories=months, ordered=True)\n",
        "\n",
        "plt.figure(figsize=(12,6))\n",
        "\n",
        "sns.lineplot(x='arrival_date_month', y='is_canceled', data=df_31)\n",
        "plt.title('Trend in cancelation rate over the months of the year')\n",
        "plt.xlabel('Months')\n",
        "plt.ylabel('Cancellation rate')\n",
        "plt.text(10,0.235,['scale 0 to 1'])\n",
        "plt.show()"
      ],
      "execution_count": 69,
      "outputs": [
        {
          "output_type": "display_data",
          "data": {
            "image/png": "[encoded data removed]",
            "text/plain": [
              "<Figure size 864x432 with 1 Axes>"
            ]
          },
          "metadata": {
            "tags": [],
            "needs_background": "light"
          }
        }
      ]
    },
    {
      "cell_type": "markdown",
      "metadata": {
        "id": "9dAFbz56aF9e"
      },
      "source": [
        "### (Check with the team) "
      ]
    },
    {
      "cell_type": "markdown",
      "metadata": {
        "id": "w1TK3P1OzfwA"
      },
      "source": [
        "## 4.Does the change no of booking changes affect the cancellation?"
      ]
    },
    {
      "cell_type": "code",
      "metadata": {
        "colab": {
          "base_uri": "https://localhost:8080/"
        },
        "id": "edeTlgbhzpyX",
        "outputId": "fdc38761-0ccf-44bd-a0a4-fc464b817e0b"
      },
      "source": [
        "df.booking_changes.value_counts()[:10]"
      ],
      "execution_count": 70,
      "outputs": [
        {
          "output_type": "execute_result",
          "data": {
            "text/plain": [
              "0    101314\n",
              "1     12701\n",
              "2      3805\n",
              "3       927\n",
              "4       376\n",
              "5       118\n",
              "6        63\n",
              "7        31\n",
              "8        17\n",
              "9         8\n",
              "Name: booking_changes, dtype: int64"
            ]
          },
          "metadata": {
            "tags": []
          },
          "execution_count": 70
        }
      ]
    },
    {
      "cell_type": "code",
      "metadata": {
        "id": "T7BoTymw1RdL",
        "colab": {
          "base_uri": "https://localhost:8080/",
          "height": 404
        },
        "outputId": "152a1475-8fbc-42f6-fc93-85b98cf0d6f8"
      },
      "source": [
        "plt.figure(figsize=(12,6))\n",
        "\n",
        "sns.barplot(x='booking_changes',y='is_canceled',data=df,order=pd.value_counts(df['booking_changes']).iloc[:10].index, ci=None)\n",
        "percentage = df.groupby('booking_changes')['is_canceled'].mean().to_list()\n",
        "for i in range(0,10):\n",
        "  plt.text(i-0.2,round(percentage[i],2)+0.004,str(round(percentage[i]*100,2))+'%',fontsize=10)\n",
        "plt.title('Booking changes vs Cancellation rate')\n",
        "plt.xlabel('No of booking Changes')\n",
        "plt.ylabel('Cancellation rate')\n",
        "plt.show()"
      ],
      "execution_count": 71,
      "outputs": [
        {
          "output_type": "display_data",
          "data": {
            "image/png": "[encoded data removed]",
            "text/plain": [
              "<Figure size 864x432 with 1 Axes>"
            ]
          },
          "metadata": {
            "tags": [],
            "needs_background": "light"
          }
        }
      ]
    },
    {
      "cell_type": "markdown",
      "metadata": {
        "id": "_dO-ivSgZXQa"
      },
      "source": [
        "### We can notice that the cancellation rate was lower when the customers were allowed for changes"
      ]
    },
    {
      "cell_type": "markdown",
      "metadata": {
        "id": "qR1adaQQZoQU"
      },
      "source": [
        "Being liberal on allowing customers to change thier bookings can help in reducing the cancellation rate. However it is better to limit is to 5. "
      ]
    },
    {
      "cell_type": "markdown",
      "metadata": {
        "id": "h2aRVjyx3Qbh"
      },
      "source": [
        "##5.If the assigned room is not same as reserved room?"
      ]
    },
    {
      "cell_type": "code",
      "metadata": {
        "id": "1gbbdoqW69J4"
      },
      "source": [
        "df['same_room_assigned'] = np.where(df.reserved_room_type==df.assigned_room_type, 1 , 0)\n",
        "#df['col3'] = np.where(df['age'] <= 9, 'child', df['sex'])\n"
      ],
      "execution_count": 72,
      "outputs": []
    },
    {
      "cell_type": "code",
      "metadata": {
        "colab": {
          "base_uri": "https://localhost:8080/",
          "height": 295
        },
        "id": "Mtl6XDh27xOo",
        "outputId": "f82b39c9-e5d3-462b-c98b-e337478b8a98"
      },
      "source": [
        "sns.barplot(x='same_room_assigned', y = 'is_canceled', data=df, ci=None)\n",
        "percentage = df.groupby('same_room_assigned')['is_canceled'].mean().to_list()\n",
        "for i in range(0,2):\n",
        "  plt.text(i-0.125,round(percentage[i],2)-0.03,str(round(percentage[i]*100,2))+'%',fontsize=14)\n",
        "plt.title('Room assigned vs Cancellation rate')\n",
        "plt.xlabel(' ')\n",
        "plt.ylabel('Cancellation rate')\n",
        "plt.show()\n"
      ],
      "execution_count": 92,
      "outputs": [
        {
          "output_type": "display_data",
          "data": {
            "image/png": "[encoded data removed]",
            "text/plain": [
              "<Figure size 432x288 with 1 Axes>"
            ]
          },
          "metadata": {
            "tags": [],
            "needs_background": "light"
          }
        }
      ]
    },
    {
      "cell_type": "markdown",
      "metadata": {
        "id": "aLu_cgyCXWpB"
      },
      "source": [
        "### We noticed that when same room was not assigned, the cancellation rate was very low.It implies Assigning a better room drastically reduce the cancellation rate. "
      ]
    },
    {
      "cell_type": "markdown",
      "metadata": {
        "id": "_nOFQWwSdndc"
      },
      "source": [
        "Assigning a better room drastically reduce the cancellation rate. So, if possible we offer a better room when the customer is planning to cancel the booking. "
      ]
    },
    {
      "cell_type": "markdown",
      "metadata": {
        "id": "LydrH4sX9asB"
      },
      "source": [
        "## 6.Cancellation rate based on deposit type "
      ]
    },
    {
      "cell_type": "code",
      "metadata": {
        "id": "NaaAhw-Z8N2J",
        "colab": {
          "base_uri": "https://localhost:8080/"
        },
        "outputId": "9236f152-3f10-435c-e974-be5e47a86e18"
      },
      "source": [
        "df.deposit_type.value_counts()"
      ],
      "execution_count": 74,
      "outputs": [
        {
          "output_type": "execute_result",
          "data": {
            "text/plain": [
              "No Deposit    104641\n",
              "Non Refund     14587\n",
              "Refundable       162\n",
              "Name: deposit_type, dtype: int64"
            ]
          },
          "metadata": {
            "tags": []
          },
          "execution_count": 74
        }
      ]
    },
    {
      "cell_type": "code",
      "metadata": {
        "id": "5wEo0IuGQ3z9",
        "colab": {
          "base_uri": "https://localhost:8080/",
          "height": 280
        },
        "outputId": "f53908a7-2d1c-4636-f06b-34135f1d5d3f"
      },
      "source": [
        "sns.barplot(x='deposit_type', y = 'is_canceled', data=df, ci=None)\n",
        "percentage = df.groupby('deposit_type')['is_canceled'].mean().to_list()\n",
        "for i in range(0,3):\n",
        "  plt.text(i-0.2,round(percentage[i],2)-0.05,str(round(percentage[i]*100,2))+'%',fontsize=14)"
      ],
      "execution_count": 75,
      "outputs": [
        {
          "output_type": "display_data",
          "data": {
            "image/png": "[encoded data removed]",
            "text/plain": [
              "<Figure size 432x288 with 1 Axes>"
            ]
          },
          "metadata": {
            "tags": [],
            "needs_background": "light"
          }
        }
      ]
    },
    {
      "cell_type": "markdown",
      "metadata": {
        "id": "7swy0cv-UT58"
      },
      "source": [
        "### Not Insights"
      ]
    },
    {
      "cell_type": "code",
      "metadata": {
        "id": "BImh6KpgRn-7",
        "colab": {
          "base_uri": "https://localhost:8080/"
        },
        "outputId": "0de2d2c3-d3d5-4815-ce60-93b6c3028ae7"
      },
      "source": [
        "df.groupby('deposit_type')['is_canceled'].value_counts()\n"
      ],
      "execution_count": 76,
      "outputs": [
        {
          "output_type": "execute_result",
          "data": {
            "text/plain": [
              "deposit_type  is_canceled\n",
              "No Deposit    0              74947\n",
              "              1              29694\n",
              "Non Refund    1              14494\n",
              "              0                 93\n",
              "Refundable    0                126\n",
              "              1                 36\n",
              "Name: is_canceled, dtype: int64"
            ]
          },
          "metadata": {
            "tags": []
          },
          "execution_count": 76
        }
      ]
    },
    {
      "cell_type": "markdown",
      "metadata": {
        "id": "xKvgd44WTLOM"
      },
      "source": [
        "## 7.Variation in of cancellation based on market segment."
      ]
    },
    {
      "cell_type": "code",
      "metadata": {
        "id": "1P_kYv9rZDjc",
        "colab": {
          "base_uri": "https://localhost:8080/"
        },
        "outputId": "4eb561cb-8606-4d3c-9e3e-792c99cfe19d"
      },
      "source": [
        "#df_7 = df[df.market_segment!='Undefined']\n",
        "df_7 = df.drop(df.loc[df['market_segment']=='Undefined'].index,)\n",
        "print(df.shape,df_7.shape)"
      ],
      "execution_count": 77,
      "outputs": [
        {
          "output_type": "stream",
          "text": [
            "(119390, 34) (119388, 34)\n"
          ],
          "name": "stdout"
        }
      ]
    },
    {
      "cell_type": "code",
      "metadata": {
        "id": "Iqu2l5UHR6mE",
        "colab": {
          "base_uri": "https://localhost:8080/",
          "height": 256
        },
        "outputId": "02c8f5c0-8ac8-49b6-9100-2479f3a1b6dd"
      },
      "source": [
        "market_segment_df = df_7['market_segment'].value_counts().reset_index().rename(columns={'index':'market_segment', 'market_segment': 'count'})\n",
        "market_segment_df = market_segment_df.head(7)\n",
        "market_segment_df"
      ],
      "execution_count": 78,
      "outputs": [
        {
          "output_type": "execute_result",
          "data": {
            "text/html": [
              "<div>\n",
              "<style scoped>\n",
              "    .dataframe tbody tr th:only-of-type {\n",
              "        vertical-align: middle;\n",
              "    }\n",
              "\n",
              "    .dataframe tbody tr th {\n",
              "        vertical-align: top;\n",
              "    }\n",
              "\n",
              "    .dataframe thead th {\n",
              "        text-align: right;\n",
              "    }\n",
              "</style>\n",
              "<table border=\"1\" class=\"dataframe\">\n",
              "  <thead>\n",
              "    <tr style=\"text-align: right;\">\n",
              "      <th></th>\n",
              "      <th>market_segment</th>\n",
              "      <th>count</th>\n",
              "    </tr>\n",
              "  </thead>\n",
              "  <tbody>\n",
              "    <tr>\n",
              "      <th>0</th>\n",
              "      <td>Online TA</td>\n",
              "      <td>56477</td>\n",
              "    </tr>\n",
              "    <tr>\n",
              "      <th>1</th>\n",
              "      <td>Offline TA/TO</td>\n",
              "      <td>24219</td>\n",
              "    </tr>\n",
              "    <tr>\n",
              "      <th>2</th>\n",
              "      <td>Groups</td>\n",
              "      <td>19811</td>\n",
              "    </tr>\n",
              "    <tr>\n",
              "      <th>3</th>\n",
              "      <td>Direct</td>\n",
              "      <td>12606</td>\n",
              "    </tr>\n",
              "    <tr>\n",
              "      <th>4</th>\n",
              "      <td>Corporate</td>\n",
              "      <td>5295</td>\n",
              "    </tr>\n",
              "    <tr>\n",
              "      <th>5</th>\n",
              "      <td>Complementary</td>\n",
              "      <td>743</td>\n",
              "    </tr>\n",
              "    <tr>\n",
              "      <th>6</th>\n",
              "      <td>Aviation</td>\n",
              "      <td>237</td>\n",
              "    </tr>\n",
              "  </tbody>\n",
              "</table>\n",
              "</div>"
            ],
            "text/plain": [
              "  market_segment  count\n",
              "0      Online TA  56477\n",
              "1  Offline TA/TO  24219\n",
              "2         Groups  19811\n",
              "3         Direct  12606\n",
              "4      Corporate   5295\n",
              "5  Complementary    743\n",
              "6       Aviation    237"
            ]
          },
          "metadata": {
            "tags": []
          },
          "execution_count": 78
        }
      ]
    },
    {
      "cell_type": "code",
      "metadata": {
        "id": "yOEVhRC2T3Br",
        "colab": {
          "base_uri": "https://localhost:8080/"
        },
        "outputId": "ba2a9b92-a7d8-48ce-f833-e9097fe7279b"
      },
      "source": [
        "# extracting number of customer type\n",
        "market_segment_values = market_segment_df['count'].values\n",
        "market_segment_values"
      ],
      "execution_count": 79,
      "outputs": [
        {
          "output_type": "execute_result",
          "data": {
            "text/plain": [
              "array([56477, 24219, 19811, 12606,  5295,   743,   237])"
            ]
          },
          "metadata": {
            "tags": []
          },
          "execution_count": 79
        }
      ]
    },
    {
      "cell_type": "code",
      "metadata": {
        "id": "1vbAmLaYW427",
        "colab": {
          "base_uri": "https://localhost:8080/"
        },
        "outputId": "666b6b84-b2d3-4676-aa87-95e62dd7e3d2"
      },
      "source": [
        "# extracting customer type for labelling \n",
        "market_segment_labels = market_segment_df['market_segment'].values\n",
        "market_segment_labels"
      ],
      "execution_count": 80,
      "outputs": [
        {
          "output_type": "execute_result",
          "data": {
            "text/plain": [
              "array(['Online TA', 'Offline TA/TO', 'Groups', 'Direct', 'Corporate',\n",
              "       'Complementary', 'Aviation'], dtype=object)"
            ]
          },
          "metadata": {
            "tags": []
          },
          "execution_count": 80
        }
      ]
    },
    {
      "cell_type": "code",
      "metadata": {
        "id": "KnhMDRHAXEVk",
        "colab": {
          "base_uri": "https://localhost:8080/",
          "height": 440
        },
        "outputId": "33257a5e-f411-45a3-931b-6744328929ac"
      },
      "source": [
        "#Ploting pie plot\n",
        "myexplode = [0.2, 0, 0, 0,0.3,0.3,0.3]\n",
        "plt.pie(market_segment_values, labels = market_segment_labels,radius = 2,autopct='%1.0f%%', explode=myexplode, shadow = True)\n",
        "plt.show() "
      ],
      "execution_count": 81,
      "outputs": [
        {
          "output_type": "display_data",
          "data": {
            "image/png": "[encoded data removed]",
            "text/plain": [
              "<Figure size 432x288 with 1 Axes>"
            ]
          },
          "metadata": {
            "tags": []
          }
        }
      ]
    },
    {
      "cell_type": "code",
      "metadata": {
        "id": "OXcuDR6DXPPc",
        "colab": {
          "base_uri": "https://localhost:8080/",
          "height": 404
        },
        "outputId": "de3d23a2-cdb4-4222-e71f-9241c32a5fcb"
      },
      "source": [
        "List = ['Online TA', 'Offline TA/TO', 'Groups', 'Direct', 'Corporate','Complementary', 'Aviation']\n",
        "df['market_segment'] = pd.Categorical(df['market_segment'], categories=List, ordered=True)\n",
        "plt.figure(figsize=(10,6))\n",
        "sns.barplot(x='market_segment', y = 'is_canceled', data=df, ci=None)\n",
        "percentage = df.groupby('market_segment')['is_canceled'].mean().to_list()\n",
        "for i in range(0,7):\n",
        "  plt.text(i-0.25,round(percentage[i],2)-0.05,str(round(percentage[i]*100,2))+'%',fontsize=12)\n",
        "\n",
        "plt.title('Market Segment vs Cancellation rate')\n",
        "plt.xlabel('Market Segments')\n",
        "plt.ylabel('Cancellation rate')\n",
        "plt.show()\n"
      ],
      "execution_count": 82,
      "outputs": [
        {
          "output_type": "display_data",
          "data": {
            "image/png": "[encoded data removed]",
            "text/plain": [
              "<Figure size 720x432 with 1 Axes>"
            ]
          },
          "metadata": {
            "tags": [],
            "needs_background": "light"
          }
        }
      ]
    },
    {
      "cell_type": "markdown",
      "metadata": {
        "id": "bADWHELBT3le"
      },
      "source": [
        "### The customers who come from grouped market segments have a very high cancellation rate and direct and complimentary customers had the least cancellation rate. "
      ]
    },
    {
      "cell_type": "markdown",
      "metadata": {
        "id": "jBi9Sale66pp"
      },
      "source": [
        "## 8.How often does the repeated guest cancel the booking?"
      ]
    },
    {
      "cell_type": "code",
      "metadata": {
        "colab": {
          "base_uri": "https://localhost:8080/",
          "height": 264
        },
        "id": "1OQgxiXq9ORy",
        "outputId": "bf57084f-cc94-4b38-838e-59a7aa73e15f"
      },
      "source": [
        " \n",
        "is_repeated = df.is_repeated_guest.value_counts().tolist()\n",
        "plt.pie(is_repeated, labels=['New guest','Repeated Guest'], radius=1.2, autopct='%1.0f%%')\n",
        "plt.title('Pie Chart')\n",
        "plt.show()"
      ],
      "execution_count": 83,
      "outputs": [
        {
          "output_type": "display_data",
          "data": {
            "image/png": "[encoded data removed]",
            "text/plain": [
              "<Figure size 432x288 with 1 Axes>"
            ]
          },
          "metadata": {
            "tags": []
          }
        }
      ]
    },
    {
      "cell_type": "code",
      "metadata": {
        "id": "l4eH6NljRIO-",
        "colab": {
          "base_uri": "https://localhost:8080/",
          "height": 295
        },
        "outputId": "ae10d383-daa8-4932-f56f-c3f4941129ff"
      },
      "source": [
        "sns.barplot(x='is_repeated_guest', y = 'is_canceled', data=df, ci=None)\n",
        "\n",
        "percentage = df.groupby('is_repeated_guest')['is_canceled'].mean().to_list()\n",
        "for i in range(0,2):\n",
        "  plt.text(i-0.15,round(percentage[i],2)-0.05,str(round(percentage[i]*100,2))+'%',fontsize=14)\n",
        "#sns.set_xticklabel(['New guest','Repeated Guest'])\n",
        "plt.title('Cancellation rate Comparison')\n",
        "plt.ylabel('Cancellation rate')\n",
        "plt.xlabel('  ')\n",
        "plt.show()"
      ],
      "execution_count": 84,
      "outputs": [
        {
          "output_type": "display_data",
          "data": {
            "image/png": "[encoded data removed]",
            "text/plain": [
              "<Figure size 432x288 with 1 Axes>"
            ]
          },
          "metadata": {
            "tags": [],
            "needs_background": "light"
          }
        }
      ]
    },
    {
      "cell_type": "markdown",
      "metadata": {
        "id": "LhHGKl3JSTll"
      },
      "source": [
        "### The number of repeated guests are low, but the repeated guests have a very low rate of cancelations. "
      ]
    },
    {
      "cell_type": "markdown",
      "metadata": {
        "id": "NgcVB0xUSi6b"
      },
      "source": [
        "Coming up with a stragies to change a new customer into retuning customer is one of the key ways to reduce the cancellation rate. "
      ]
    },
    {
      "cell_type": "markdown",
      "metadata": {
        "id": "qb303j-qC3-O"
      },
      "source": [
        "## 9.Does special requests decrease the cancellation rate?"
      ]
    },
    {
      "cell_type": "code",
      "metadata": {
        "id": "QoCgkddQB_6g",
        "colab": {
          "base_uri": "https://localhost:8080/",
          "height": 404
        },
        "outputId": "4f95d97a-7958-4d67-a409-08ec2a530c0f"
      },
      "source": [
        "plt.figure(figsize=(10,6))\n",
        "sns.barplot(x='total_of_special_requests', y = 'is_canceled', data=df, ci=None)\n",
        "percentage = df.groupby('total_of_special_requests')['is_canceled'].mean().to_list()\n",
        "for i in range(0,6):\n",
        "  plt.text(i-0.15,round(percentage[i],2)-0.04,str(round(percentage[i],2)*100)+'%',fontsize=10)\n",
        "plt.title('No of special request vs cancellation rate')\n",
        "plt.xlabel('No of special request')\n",
        "plt.ylabel('Cancellation rate')\n",
        "plt.show()\n"
      ],
      "execution_count": 87,
      "outputs": [
        {
          "output_type": "display_data",
          "data": {
            "image/png": "[encoded data removed]",
            "text/plain": [
              "<Figure size 720x432 with 1 Axes>"
            ]
          },
          "metadata": {
            "tags": [],
            "needs_background": "light"
          }
        }
      ]
    },
    {
      "cell_type": "markdown",
      "metadata": {
        "id": "VQeuLGuMQXat"
      },
      "source": [
        "### We notice that the cancellation rates are much lower if there are special requests. "
      ]
    },
    {
      "cell_type": "markdown",
      "metadata": {
        "id": "yhypEbmTQlzN"
      },
      "source": [
        "Marketing campigns must specify on the options we provide for special books so has to attract more of such bookings that can have lower cancellations rates."
      ]
    },
    {
      "cell_type": "markdown",
      "metadata": {
        "id": "hi1fN9R-FKoF"
      },
      "source": [
        "## 10.Which type of meal type bookings have highest cancellation rate?"
      ]
    },
    {
      "cell_type": "code",
      "metadata": {
        "id": "p1lN69kbH1YS",
        "colab": {
          "base_uri": "https://localhost:8080/",
          "height": 404
        },
        "outputId": "d73d0153-c4d0-4280-d599-51be08549348"
      },
      "source": [
        "plt.figure(figsize=(10,6))\n",
        "sns.barplot(x='meal', y = 'is_canceled', data=df, ci=None)\n",
        "percentage = df.groupby('meal')['is_canceled'].mean().to_list()\n",
        "for i in range(0,5):\n",
        "  plt.text(i-0.2,round(percentage[i],2)-0.05,str(round(percentage[i],2)*100)+'%',fontsize=14)\n",
        "plt.title('Meal time vs cancellation rate')\n",
        "plt.xlabel('Meal Type')\n",
        "plt.ylabel('Cancellation rate')\n",
        "#plt.legend(['Bed & Breakfast',' Full Board','Half Board','SC','Unknown'])\n",
        "plt.show()"
      ],
      "execution_count": 86,
      "outputs": [
        {
          "output_type": "display_data",
          "data": {
            "image/png": "[encoded data removed]",
            "text/plain": [
              "<Figure size 720x432 with 1 Axes>"
            ]
          },
          "metadata": {
            "tags": [],
            "needs_background": "light"
          }
        }
      ]
    },
    {
      "cell_type": "markdown",
      "metadata": {
        "id": "FoX6gKpVPPXn"
      },
      "source": [
        "### We noticed that Full board bookings had the hight rate of cancellations and other meal type showed a simliar rate. "
      ]
    },
    {
      "cell_type": "code",
      "metadata": {
        "id": "EFcc7IhNLSIg"
      },
      "source": [
        ""
      ],
      "execution_count": 86,
      "outputs": []
    }
  ]
}